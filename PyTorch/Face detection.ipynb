{
 "cells": [
  {
   "cell_type": "code",
   "execution_count": 1,
   "metadata": {},
   "outputs": [
    {
     "name": "stderr",
     "output_type": "stream",
     "text": [
      "c:\\Users\\joey5\\anaconda3\\lib\\site-packages\\pandas\\core\\computation\\expressions.py:20: UserWarning: Pandas requires version '2.7.3' or newer of 'numexpr' (version '2.7.1' currently installed).\n",
      "  from pandas.core.computation.check import NUMEXPR_INSTALLED\n"
     ]
    }
   ],
   "source": [
    "import numpy as np\n",
    "import matplotlib.pyplot as plt\n",
    "import pandas as pd\n",
    "import seaborn as sns\n",
    "import torch as torch\n",
    "import torchvision as tv\n",
    "from functools import partial\n",
    "import os\n",
    "import tempfile\n",
    "from pathlib import Path\n",
    "import fsspec\n",
    "from sklearn.metrics import confusion_matrix, classification_report\n",
    "from torchsummary import summary"
   ]
  },
  {
   "cell_type": "code",
   "execution_count": 2,
   "metadata": {},
   "outputs": [],
   "source": [
    "import torch.nn.functional as F\n",
    "import torch.nn as nn\n",
    "import torch.optim as optim\n",
    "from torch.utils.data import random_split\n",
    "import torchvision.transforms as transforms\n",
    "import pyarrow.fs\n",
    "import ray\n",
    "from ray import tune\n",
    "import ray.train as train\n",
    "from ray.train import Checkpoint, get_checkpoint\n",
    "from ray.tune.schedulers import ASHAScheduler\n",
    "import ray.cloudpickle as pickle\n",
    "from torch.utils.data import Dataset, DataLoader\n",
    "from PIL import Image\n",
    "from tqdm import tqdm"
   ]
  },
  {
   "cell_type": "code",
   "execution_count": 3,
   "metadata": {},
   "outputs": [],
   "source": [
    "class EmotionDataset(Dataset):\n",
    "    def __init__(self, data_dir, transform=None):\n",
    "        self.data_dir = data_dir\n",
    "        self.transform = transform\n",
    "        self.images = []\n",
    "        self.labels = []\n",
    "        self.load_data()\n",
    "\n",
    "    def load_data(self):\n",
    "        # Assuming a structure where each class has its own subdirectory\n",
    "        for label, class_dir in enumerate(os.listdir(self.data_dir)):\n",
    "            class_path = os.path.join(self.data_dir, class_dir)\n",
    "            for count, img_name in enumerate(os.listdir(class_path)):\n",
    "                # if count > 700:\n",
    "                #     break\n",
    "                img_path = os.path.join(class_path, img_name)\n",
    "                self.images.append(img_path)\n",
    "                self.labels.append(label)\n",
    "\n",
    "    def __len__(self):\n",
    "        return len(self.images)\n",
    "\n",
    "    def __getitem__(self, idx):\n",
    "        img_path = self.images[idx]\n",
    "        image = Image.open(img_path)\n",
    "        label = self.labels[idx]\n",
    "\n",
    "        if self.transform:\n",
    "            image = self.transform(image)\n",
    "\n",
    "        return image, label"
   ]
  },
  {
   "cell_type": "code",
   "execution_count": 4,
   "metadata": {},
   "outputs": [],
   "source": [
    "def load_custom_data(data_dir=\"./data\", batch_size=1):\n",
    "    transform = transforms.Compose([\n",
    "        # transforms.RandomRotation(15),\n",
    "        # transforms.RandomAffine(\n",
    "        #     degrees=0,\n",
    "        #     translate=(0.01, 0.12),\n",
    "        #     shear=(0.01, 0.03),\n",
    "        # ),\n",
    "        # transforms.RandomHorizontalFlip(),\n",
    "        transforms.ToTensor(),\n",
    "        transforms.Normalize((0.5), (0.5))\n",
    "    ])\n",
    "\n",
    "    train_dir = f\"{data_dir}/train\"\n",
    "    test_dir = f\"{data_dir}/test\"\n",
    "    \n",
    "    trainset = EmotionDataset(data_dir=train_dir, transform=transform)\n",
    "    testset = EmotionDataset(data_dir=test_dir, transform=transform)\n",
    "\n",
    "    return trainset, testset"
   ]
  },
  {
   "cell_type": "code",
   "execution_count": 5,
   "metadata": {},
   "outputs": [],
   "source": [
    "def accuracy(outputs, labels):\n",
    "    _, preds = torch.max(outputs, dim=1)\n",
    "    return torch.tensor(torch.sum(preds == labels).item() / len(preds))"
   ]
  },
  {
   "cell_type": "code",
   "execution_count": 6,
   "metadata": {},
   "outputs": [],
   "source": [
    "# Can be used for any Image Classification task\n",
    "\n",
    "class ImageClassificationBase(nn.Module):\n",
    "    def training_step(self, batch):\n",
    "        inputs, labels = batch\n",
    "        outputs = self(inputs)\n",
    "        loss = F.cross_entropy(outputs, labels)\n",
    "        # loss = F.nll_loss(outputs, labels) # Convert for problem at hand\n",
    "        acc = accuracy(outputs, labels)\n",
    "        return {'loss': loss, 'acc': acc.detach()}\n",
    "    \n",
    "    def validation_step(self, batch):\n",
    "        images, labels = batch \n",
    "        out = self(images)                    # Generate predictions\n",
    "        loss = F.cross_entropy(out, labels)   # Calculate loss\n",
    "        acc = accuracy(out, labels)           # Calculate accuracy\n",
    "        return {'val_loss': loss.detach(), 'val_acc': acc.detach()}\n",
    "        \n",
    "    def get_metrics_epoch_end(self, outputs, validation=True):\n",
    "        if validation:\n",
    "            loss_ = 'val_loss'\n",
    "            acc_ = 'val_acc'\n",
    "        else:\n",
    "            loss_ = 'loss'\n",
    "            acc_ = 'acc'\n",
    "\n",
    "        batch_losses = [x[f'{loss_}'] for x in outputs]\n",
    "        epoch_loss = torch.stack(batch_losses).mean()   \n",
    "        batch_accs = [x[f'{acc_}'] for x in outputs]\n",
    "        epoch_acc = torch.stack(batch_accs).mean()      \n",
    "        return {f'{loss_}': epoch_loss.detach().item(), f'{acc_}': epoch_acc.detach().item()}\n",
    "    \n",
    "    def epoch_end(self, epoch, result, num_epochs):\n",
    "        print(f\"Epoch: {epoch+1}/{num_epochs} loss: {result['loss']:.4f}, acc: {result['acc']:.4f}, val_loss: {result['val_loss']:.4f}, val_acc: {result['val_acc']:.4f}\\n\")"
   ]
  },
  {
   "cell_type": "code",
   "execution_count": 7,
   "metadata": {},
   "outputs": [],
   "source": [
    "class EmotionRecognition(ImageClassificationBase):\n",
    "    def __init__(self):\n",
    "        super().__init__()\n",
    "        self.network = nn.Sequential(\n",
    "            nn.Conv2d(1, 128, kernel_size=(3,3), padding=1),\n",
    "            nn.ReLU(),\n",
    "            nn.Conv2d(128, 128, kernel_size=(3,3), padding=1),\n",
    "            nn.ReLU(),\n",
    "            nn.BatchNorm2d(128),\n",
    "            nn.MaxPool2d(2, 2), # output: 128 x 6 x 6\n",
    "\n",
    "            nn.Conv2d(128, 64, kernel_size=(3,3), padding=1),\n",
    "            nn.ReLU(),\n",
    "            nn.Conv2d(64, 64, kernel_size=(3,3), padding=1),\n",
    "            nn.ReLU(),\n",
    "            nn.BatchNorm2d(64),\n",
    "            nn.MaxPool2d(2, 2), # output: 64 x 12 x 12\n",
    "\n",
    "            nn.Conv2d(64, 32, kernel_size=(3,3), padding=1),\n",
    "            nn.ReLU(),\n",
    "            nn.Conv2d(32, 32, kernel_size=(3,3), padding=1),\n",
    "            nn.ReLU(),\n",
    "            nn.BatchNorm2d(32),\n",
    "            nn.MaxPool2d(2, 2), # output: 32 x 24 x 24\n",
    "\n",
    "            nn.Flatten(), \n",
    "            nn.Linear(32*6*6, 256),\n",
    "            nn.ReLU(),\n",
    "            nn.Linear(256, 128),\n",
    "            nn.ReLU(),\n",
    "            nn.Linear(128, 7))\n",
    "        \n",
    "    def forward(self, xb):\n",
    "        return self.network(xb)\n",
    "\n",
    "    def __repr__(self):\n",
    "        return f\"{self.network}\"\n",
    "    \n",
    "    def __str__(self):\n",
    "        summary(self.network, (1, 48, 48))"
   ]
  },
  {
   "cell_type": "code",
   "execution_count": 8,
   "metadata": {},
   "outputs": [],
   "source": [
    "# print(EmotionRecognition())"
   ]
  },
  {
   "cell_type": "code",
   "execution_count": 9,
   "metadata": {},
   "outputs": [],
   "source": [
    "@torch.no_grad()\n",
    "def evaluate(model: object, val_loader: object) -> dict:\n",
    "    '''\n",
    "        Evaluate model on the validation set\n",
    "        Input:\n",
    "            model: training model object\n",
    "            val_loder: validation data loader object\n",
    "        Output:\n",
    "            validation metrics\n",
    "    '''\n",
    "\n",
    "    model.eval()\n",
    "    outputs = [model.validation_step(batch) for batch in val_loader]\n",
    "    return model.get_metrics_epoch_end(outputs=outputs, validation=True)\n",
    "\n",
    "\n",
    "def get_lr(optimizer: object) -> float:\n",
    "    ''' Returns current learning rate'''\n",
    "\n",
    "    for param_group in optimizer.param_groups:\n",
    "        return param_group['lr']\n",
    "\n",
    "\n",
    "def fit_model(model: object, \n",
    "              epochs: int, \n",
    "              lr: float, \n",
    "              train_loader: object, \n",
    "              val_loader: object,\n",
    "              weight_decay: float=0, \n",
    "              grad_clip: float=None, \n",
    "              opt_func: object=torch.optim.SGD):\n",
    "    '''\n",
    "        This function is responsible for training our model.\n",
    "        We use a One Cycle learning rate policy to update our learning rate \n",
    "        with each epoch.\n",
    "        The best model is saved during each epoch.\n",
    "        Input:\n",
    "            model_name: str \n",
    "            model: object\n",
    "            epochs: int -> Max epochs\n",
    "            lr: float -> Maximum allowed learning rate during learning\n",
    "            train_loader: training set data loader\n",
    "            val_loader: validation set data loader\n",
    "            weight_decay: float -> value to decrease weights during training of each batch\n",
    "            grad_clip: float -> maximum allowed gradient value\n",
    "            opt_func: optimzer object\n",
    "        Output:\n",
    "            history: list of metrics\n",
    "    '''\n",
    "\n",
    "    model_name = \"test_model\"\n",
    "    BEST_VAL_SCORE = 0.0 # for keeping track of best model score\n",
    "    history = []\n",
    "\n",
    "    optimizer = opt_func(model.parameters(), lr, weight_decay=weight_decay)\n",
    "    # scheduler = torch.optim.lr_scheduler.OneCycleLR(optimizer=optimizer, lr=lr,\n",
    "    #                                                 epochs=epochs, \n",
    "    #                                                 steps_per_epoch=len(train_loader))\n",
    "\n",
    "    for epoch in range(epochs):\n",
    "        train_history = []\n",
    "        # lrs = []\n",
    "\n",
    "        # Training Phase \n",
    "        model.train()\n",
    "        for batch in tqdm(train_loader, ascii=True, desc=f'Epoch: {epoch+1}/{epochs}'):\n",
    "            info = model.training_step(batch)\n",
    "            loss = info['loss']\n",
    "            # contains batch loss and acc for training phase\n",
    "            train_history.append(info)\n",
    "            loss.backward()\n",
    "\n",
    "            # Gradient clipping\n",
    "            if grad_clip:\n",
    "                nn.utils.clip_grad_value_(model.parameters(), grad_clip)\n",
    "\n",
    "            optimizer.step()\n",
    "            optimizer.zero_grad()\n",
    "\n",
    "            # lrs.append(get_lr(optimizer))\n",
    "            # scheduler.step()\n",
    "\n",
    "\n",
    "        train_result = model.get_metrics_epoch_end(train_history, validation=False)\n",
    "        val_result = evaluate(model, val_loader)\n",
    "        result = {**train_result, **val_result}\n",
    "        # result['lrs'] = lrs\n",
    "        model.epoch_end(epoch, result, epochs)\n",
    "\n",
    "        # Save the best model\n",
    "        if result['val_acc'] > BEST_VAL_SCORE:\n",
    "            BEST_VAL_SCORE = result['val_acc']\n",
    "            save_name = f\"{model_name}_epoch-{epoch+1}_score-{round(result['val_acc'], 4)}.pth\"\n",
    "            !rm -f '{model_name}'_*\n",
    "            torch.save(model.state_dict(), save_name)\n",
    "\n",
    "        history.append(result)\n",
    "    return history\n",
    "\n",
    "@torch.no_grad()\n",
    "def generate_prediction(model, data,extract=False) -> None:\n",
    "    '''Generate prediction on the test set'''\n",
    "\n",
    "    # load test dataset\n",
    "    test_dl = DataLoader(data, batch_size=1, shuffle=True)\n",
    "\n",
    "    # generate prediction using the validation step method defined in Base class\n",
    "    with torch.no_grad():\n",
    "        model.eval()\n",
    "        outputs = [model.validation_step(batch) for batch in test_dl]\n",
    "        metrics = model.get_metrics_epoch_end(outputs=outputs, validation=True)\n",
    "        \n",
    "        \n",
    "    if extract==False:\n",
    "        print(f\"Test Scores:\\n Loss: {round(metrics['val_loss'], 3)}, Accuracy: {round(metrics['val_acc'], 3)}\")\n",
    "    else:\n",
    "        return metrics\n",
    "    "
   ]
  },
  {
   "cell_type": "code",
   "execution_count": 10,
   "metadata": {},
   "outputs": [],
   "source": [
    "def end_to_end(trainset, testset, parameters: dict=None) -> dict:\n",
    "    '''\n",
    "        A simple function end-to-end training and testing on the selected model.\n",
    "        Inputs:\n",
    "            model_name: str -> chosen model name\n",
    "            parameters: dict -> dictionary of hyperparameters for the model\n",
    "        Outputs:\n",
    "            history: dict -> dictionary containing model metrics(loss, score, lr)\n",
    "\n",
    "    '''\n",
    "    torch.cuda.empty_cache()\n",
    "\n",
    "    # hyperparameters\n",
    "    BATCH_SIZE = parameters[\"batch_size\"]\n",
    "    epochs = parameters[\"epochs\"]\n",
    "    lr = parameters[\"lr\"]\n",
    "    weight_decay = parameters[\"weight_decay\"]\n",
    "    grad_clip = parameters[\"grad_clip\"]\n",
    "    opt_func = parameters[\"opt_func\"]\n",
    "\n",
    "    # get transformed dataset\n",
    "    train_dl = DataLoader(trainset, BATCH_SIZE, shuffle=True)\n",
    "    valid_dl = DataLoader(testset, BATCH_SIZE, shuffle=True)\n",
    "\n",
    "    # # Print batch img shape, label and plot image:\n",
    "    # img, label = next(iter(train_dl))\n",
    "    # print(f\"Batch Shape: {img.shape}\")\n",
    "    # print(f\"Label: {label}\")\n",
    "    # plt.imshow(img[0].numpy().squeeze(), cmap='gray')\n",
    "    # plt.show()\n",
    "\n",
    "    # get model\n",
    "    model = EmotionRecognition()\n",
    "\n",
    "    # move model to GPU\n",
    "    # model = to_device(model, device)\n",
    "    \n",
    "    # train model\n",
    "    history = fit_model(\n",
    "                model, \n",
    "                epochs, \n",
    "                lr, \n",
    "                train_dl, \n",
    "                valid_dl,\n",
    "                weight_decay, \n",
    "                grad_clip, \n",
    "                opt_func\n",
    "            )\n",
    "\n",
    "    # cleaning\n",
    "    torch.cuda.empty_cache()\n",
    "\n",
    "    # generate predictions\n",
    "    print(\"Generating predictions on the Test set\")\n",
    "    pred = generate_prediction(model, testset)\n",
    "    return history, pred"
   ]
  },
  {
   "cell_type": "code",
   "execution_count": 11,
   "metadata": {},
   "outputs": [],
   "source": [
    "training_parameters = {\n",
    "    \"epochs\": 5,\n",
    "    \"lr\": 3e-4,\n",
    "    \"weight_decay\": 0.05,\n",
    "    \"grad_clip\": 0.5e-2,\n",
    "    \"opt_func\": torch.optim.SGD,\n",
    "    \"batch_size\": 32,\n",
    "    \"momentum\": 0.9\n",
    "\n",
    "}"
   ]
  },
  {
   "cell_type": "code",
   "execution_count": 12,
   "metadata": {},
   "outputs": [],
   "source": [
    "trainset, testset = load_custom_data(data_dir=\"C:/Users/joey5/OneDrive/KU/Fourth Year/AppML/Final_Project\", batch_size=1)\n"
   ]
  },
  {
   "cell_type": "code",
   "execution_count": 14,
   "metadata": {},
   "outputs": [
    {
     "name": "stderr",
     "output_type": "stream",
     "text": [
      "Epoch: 1/5: 100%|##########| 898/898 [07:04<00:00,  2.12it/s]\n"
     ]
    },
    {
     "name": "stdout",
     "output_type": "stream",
     "text": [
      "Epoch: 1/5 loss: 1.9349, acc: 0.1662, val_loss: 1.8875, val_acc: 0.2407\n",
      "\n"
     ]
    },
    {
     "name": "stderr",
     "output_type": "stream",
     "text": [
      "'rm' is not recognized as an internal or external command,\n",
      "operable program or batch file.\n",
      "Epoch: 2/5: 100%|##########| 898/898 [07:58<00:00,  1.88it/s]\n"
     ]
    },
    {
     "name": "stdout",
     "output_type": "stream",
     "text": [
      "Epoch: 2/5 loss: 1.8632, acc: 0.2511, val_loss: 1.8407, val_acc: 0.2523\n",
      "\n"
     ]
    },
    {
     "name": "stderr",
     "output_type": "stream",
     "text": [
      "'rm' is not recognized as an internal or external command,\n",
      "operable program or batch file.\n",
      "Epoch: 3/5: 100%|##########| 898/898 [07:15<00:00,  2.06it/s]\n",
      "Epoch: 4/5:   0%|          | 0/898 [00:00<?, ?it/s]"
     ]
    },
    {
     "name": "stdout",
     "output_type": "stream",
     "text": [
      "Epoch: 3/5 loss: 1.8259, acc: 0.2533, val_loss: 1.8158, val_acc: 0.2485\n",
      "\n"
     ]
    },
    {
     "name": "stderr",
     "output_type": "stream",
     "text": [
      "Epoch: 4/5: 100%|##########| 898/898 [06:14<00:00,  2.40it/s]\n",
      "Epoch: 5/5:   0%|          | 0/898 [00:00<?, ?it/s]"
     ]
    },
    {
     "name": "stdout",
     "output_type": "stream",
     "text": [
      "Epoch: 4/5 loss: 1.8029, acc: 0.2523, val_loss: 1.7968, val_acc: 0.2485\n",
      "\n"
     ]
    },
    {
     "name": "stderr",
     "output_type": "stream",
     "text": [
      "Epoch: 5/5: 100%|##########| 898/898 [06:44<00:00,  2.22it/s]\n"
     ]
    },
    {
     "name": "stdout",
     "output_type": "stream",
     "text": [
      "Epoch: 5/5 loss: 1.7867, acc: 0.2530, val_loss: 1.7838, val_acc: 0.2492\n",
      "\n",
      "Generating predictions on the Test set\n",
      "Test Scores:\n",
      " Loss: 1.784, Accuracy: 0.25\n"
     ]
    }
   ],
   "source": [
    "# train the model\n",
    "history,pred = end_to_end(trainset, testset, training_parameters)"
   ]
  },
  {
   "cell_type": "code",
   "execution_count": null,
   "metadata": {},
   "outputs": [
    {
     "name": "stdout",
     "output_type": "stream",
     "text": [
      "Test Scores:\n",
      " Loss: 1.769, Accuracy: 0.255\n"
     ]
    }
   ],
   "source": [
    "# Load the model\n",
    "model = EmotionRecognition()\n",
    "model.load_state_dict(torch.load(\"test_model_epoch-5_score-0.2557.pth\"))\n",
    "\n",
    "\n",
    "\n",
    "# \n"
   ]
  },
  {
   "cell_type": "code",
   "execution_count": null,
   "metadata": {},
   "outputs": [],
   "source": [
    "\n",
    "def plot_confusion_matrix(cm, class_names):\n",
    "    figure, ax = plt.subplots(figsize=(5, 5))\n",
    "    cm_norm = cm / np.sum(cm, axis=1, keepdims=True)\n",
    "    ax.imshow(cm_norm, interpolation='nearest', cmap=plt.get_cmap('Blues'))\n",
    "    accuracy_ = np.trace(cm) / float(np.sum(cm))\n",
    "    ax.set_title(f'Accuracy: {100*accuracy_:.2f}%', fontsize=14, fontweight='bold')\n",
    "    tick_marks = np.arange(len(class_names))\n",
    "    ax.set_xticks(tick_marks)\n",
    "    ax.set_xticklabels(class_names, rotation=45)\n",
    "    ax.set_yticks(tick_marks)\n",
    "    ax.set_yticklabels(class_names)\n",
    "\n",
    "    for i in range(len(class_names)):\n",
    "        for j in range(len(class_names)):\n",
    "            ax.text(j, i, f'{cm_norm[i, j]:.2f}', ha='center', va='center', color='k')\n",
    "\n",
    "    figure.tight_layout()\n",
    "    plt.xlabel('Predicted', fontweight='bold', fontsize=14)\n",
    "    plt.ylabel('True', fontweight='bold', fontsize=14)\n",
    "    plt.show()\n",
    "\n",
    "def generate_confusion_matrix(model, data) -> None:\n",
    "    '''Generate confusion matrix on the test set'''\n",
    "    # load test dataset\n",
    "    test_dl = DataLoader(data, batch_size=1, shuffle=True)\n",
    "\n",
    "    # generate prediction using the validation step method defined in Base class\n",
    "    with torch.no_grad():\n",
    "        model.eval()\n",
    "        all_preds = []\n",
    "        all_labels = []\n",
    "        for batch in test_dl:\n",
    "            images, labels = batch\n",
    "            preds = model(images)\n",
    "            all_preds.append(preds)\n",
    "            all_labels.append(labels)\n",
    "\n",
    "        all_preds = torch.cat(all_preds, dim=0)\n",
    "        all_labels = torch.cat(all_labels, dim=0)\n",
    "        cm = confusion_matrix(all_labels.cpu().numpy(), torch.argmax(all_preds, dim=1).cpu().numpy())\n",
    "        plot_confusion_matrix(cm, class_names=['Angry', 'Disgust', 'Fear', 'Happy', 'Sad', 'Surprise', 'Neutral'])\n",
    "\n"
   ]
  },
  {
   "cell_type": "code",
   "execution_count": null,
   "metadata": {},
   "outputs": [
    {
     "data": {
      "image/png": "[encoded data removed]",
      "text/plain": [
       "<Figure size 360x360 with 1 Axes>"
      ]
     },
     "metadata": {
      "needs_background": "light"
     },
     "output_type": "display_data"
    }
   ],
   "source": [
    "generate_confusion_matrix(model, testset)"
   ]
  },
  {
   "cell_type": "code",
   "execution_count": null,
   "metadata": {},
   "outputs": [
    {
     "data": {
      "image/png": "[encoded data removed]",
      "text/plain": [
       "<Figure size 432x288 with 1 Axes>"
      ]
     },
     "metadata": {
      "needs_background": "light"
     },
     "output_type": "display_data"
    }
   ],
   "source": [
    "# print the distribution of the classes in  the test set\n",
    "\n",
    "def class_distribution(data) -> None:\n",
    "    '''Print class distribution of the dataset'''\n",
    "    labels = [label for _, label in data]\n",
    "    sns.countplot(labels)\n",
    "    plt.show()\n",
    "\n",
    "class_distribution(testset)"
   ]
  },
  {
   "cell_type": "code",
   "execution_count": null,
   "metadata": {},
   "outputs": [
    {
     "name": "stdout",
     "output_type": "stream",
     "text": [
      "----------------------------------------------------------------\n",
      "        Layer (type)               Output Shape         Param #\n",
      "================================================================\n",
      "            Conv2d-1          [-1, 128, 48, 48]           1,280\n",
      "              ReLU-2          [-1, 128, 48, 48]               0\n",
      "            Conv2d-3          [-1, 128, 48, 48]         147,584\n",
      "              ReLU-4          [-1, 128, 48, 48]               0\n",
      "       BatchNorm2d-5          [-1, 128, 48, 48]             256\n",
      "         MaxPool2d-6          [-1, 128, 24, 24]               0\n",
      "            Conv2d-7           [-1, 64, 24, 24]          73,792\n",
      "              ReLU-8           [-1, 64, 24, 24]               0\n",
      "            Conv2d-9           [-1, 64, 24, 24]          36,928\n",
      "             ReLU-10           [-1, 64, 24, 24]               0\n",
      "      BatchNorm2d-11           [-1, 64, 24, 24]             128\n",
      "        MaxPool2d-12           [-1, 64, 12, 12]               0\n",
      "           Conv2d-13           [-1, 32, 12, 12]          18,464\n",
      "             ReLU-14           [-1, 32, 12, 12]               0\n",
      "           Conv2d-15           [-1, 32, 12, 12]           9,248\n",
      "             ReLU-16           [-1, 32, 12, 12]               0\n",
      "      BatchNorm2d-17           [-1, 32, 12, 12]              64\n",
      "        MaxPool2d-18             [-1, 32, 6, 6]               0\n",
      "          Flatten-19                 [-1, 1152]               0\n",
      "           Linear-20                  [-1, 512]         590,336\n",
      "             ReLU-21                  [-1, 512]               0\n",
      "           Linear-22                  [-1, 128]          65,664\n",
      "             ReLU-23                  [-1, 128]               0\n",
      "           Linear-24                    [-1, 7]             903\n",
      "================================================================\n",
      "Total params: 944,647\n",
      "Trainable params: 944,647\n",
      "Non-trainable params: 0\n",
      "----------------------------------------------------------------\n",
      "Input size (MB): 0.01\n",
      "Forward/backward pass size (MB): 13.49\n",
      "Params size (MB): 3.60\n",
      "Estimated Total Size (MB): 17.10\n",
      "----------------------------------------------------------------\n"
     ]
    },
    {
     "ename": "TypeError",
     "evalue": "__str__ returned non-string (type NoneType)",
     "output_type": "error",
     "traceback": [
      "\u001b[1;31m---------------------------------------------------------------------------\u001b[0m",
      "\u001b[1;31mTypeError\u001b[0m                                 Traceback (most recent call last)",
      "\u001b[1;32m<ipython-input-70-a87813ffe34d>\u001b[0m in \u001b[0;36m<module>\u001b[1;34m\u001b[0m\n\u001b[1;32m----> 1\u001b[1;33m \u001b[0mprint\u001b[0m\u001b[1;33m(\u001b[0m\u001b[0mmodel\u001b[0m\u001b[1;33m)\u001b[0m\u001b[1;33m\u001b[0m\u001b[1;33m\u001b[0m\u001b[0m\n\u001b[0m",
      "\u001b[1;31mTypeError\u001b[0m: __str__ returned non-string (type NoneType)"
     ]
    }
   ],
   "source": [
    "print(model)"
   ]
  },
  {
   "cell_type": "code",
   "execution_count": null,
   "metadata": {},
   "outputs": [],
   "source": []
  }
 ],
 "metadata": {
  "kernelspec": {
   "display_name": "base",
   "language": "python",
   "name": "python3"
  },
  "language_info": {
   "codemirror_mode": {
    "name": "ipython",
    "version": 3
   },
   "file_extension": ".py",
   "mimetype": "text/x-python",
   "name": "python",
   "nbconvert_exporter": "python",
   "pygments_lexer": "ipython3",
   "version": "3.8.3"
  }
 },
 "nbformat": 4,
 "nbformat_minor": 2
}
