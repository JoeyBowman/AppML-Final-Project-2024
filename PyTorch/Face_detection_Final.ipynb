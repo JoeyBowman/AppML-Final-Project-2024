{
 "cells": [
  {
   "cell_type": "code",
   "execution_count": 1,
   "metadata": {},
   "outputs": [
    {
     "name": "stderr",
     "output_type": "stream",
     "text": [
      "c:\\Users\\joey5\\anaconda3\\lib\\site-packages\\pandas\\core\\computation\\expressions.py:20: UserWarning: Pandas requires version '2.7.3' or newer of 'numexpr' (version '2.7.1' currently installed).\n",
      "  from pandas.core.computation.check import NUMEXPR_INSTALLED\n"
     ]
    }
   ],
   "source": [
    "import numpy as np\n",
    "import matplotlib.pyplot as plt\n",
    "import pandas as pd\n",
    "import seaborn as sns\n",
    "import torch as torch\n",
    "import torchvision as tv\n",
    "from functools import partial\n",
    "import os\n",
    "import tempfile\n",
    "from pathlib import Path\n",
    "import fsspec\n",
    "from sklearn.metrics import confusion_matrix, classification_report\n",
    "from sklearn.model_selection import train_test_split\n",
    "from torchsummary import summary"
   ]
  },
  {
   "cell_type": "code",
   "execution_count": 2,
   "metadata": {},
   "outputs": [],
   "source": [
    "import torch.nn.functional as F\n",
    "import torch.nn as nn\n",
    "import torch.optim as optim\n",
    "from torch.utils.data import random_split\n",
    "import torchvision.transforms as transforms\n",
    "import pyarrow.fs\n",
    "import ray.cloudpickle as pickle\n",
    "from torch.utils.data import Dataset, DataLoader, Subset\n",
    "from PIL import Image\n",
    "from tqdm import tqdm"
   ]
  },
  {
   "cell_type": "code",
   "execution_count": 3,
   "metadata": {},
   "outputs": [],
   "source": [
    "class EmotionDataset(Dataset):\n",
    "    def __init__(self, data_dir, transform=None):\n",
    "        self.data_dir = data_dir\n",
    "        self.transform = transform\n",
    "        self.split = False\n",
    "        self.images = []\n",
    "        self.labels = []\n",
    "        self.load_data()\n",
    "\n",
    "    def load_data(self):\n",
    "        # Assuming a structure where each class has its own subdirectory\n",
    "        for label, class_dir in enumerate(os.listdir(self.data_dir)):\n",
    "            class_path = os.path.join(self.data_dir, class_dir)\n",
    "            for count, img_name in enumerate(os.listdir(class_path)):\n",
    "                # if count > 700:\n",
    "                #     break\n",
    "                img_path = os.path.join(class_path, img_name)\n",
    "                self.images.append(img_path)\n",
    "                self.labels.append(label)\n",
    "\n",
    "    def __len__(self):\n",
    "        return len(self.images)\n",
    "\n",
    "    def __getitem__(self, idx):\n",
    "        img_path = self.images[idx]\n",
    "        image = Image.open(img_path)\n",
    "        label = self.labels[idx]\n",
    "\n",
    "        if self.transform:\n",
    "            image = self.transform(image)\n",
    "\n",
    "        return image, label"
   ]
  },
  {
   "cell_type": "code",
   "execution_count": 4,
   "metadata": {},
   "outputs": [],
   "source": [
    "class EmotionDatasetSplit(Dataset):\n",
    "    def __init__(self, data_dir, transform=None, split=False, split_ratio=0.8):\n",
    "        self.data_dir = data_dir\n",
    "        self.transform = transform\n",
    "        self.split = split\n",
    "        self.split_ratio = split_ratio\n",
    "        self.images = []\n",
    "        self.labels = []\n",
    "        self.train_indices = []\n",
    "        self.val_indices = []\n",
    "        self.load_data()\n",
    "        \n",
    "        if self.split:\n",
    "            self.train_indices, self.val_indices = self._split_data()\n",
    "\n",
    "    def load_data(self):\n",
    "        # Assuming a structure where each class has its own subdirectory\n",
    "        for label, class_dir in enumerate(os.listdir(self.data_dir)):\n",
    "            class_path = os.path.join(self.data_dir, class_dir)\n",
    "            if os.path.isdir(class_path):\n",
    "                for img_name in os.listdir(class_path):\n",
    "                    img_path = os.path.join(class_path, img_name)\n",
    "                    if os.path.isfile(img_path) and img_name.lower().endswith(('.png', '.jpg', '.jpeg')):\n",
    "                        self.images.append(img_path)\n",
    "                        self.labels.append(label)\n",
    "\n",
    "    def _split_data(self):\n",
    "        indices = np.arange(len(self.images))\n",
    "        train_indices, val_indices = train_test_split(indices, test_size=1-self.split_ratio, random_state=42)\n",
    "        return train_indices, val_indices\n",
    "\n",
    "    def __len__(self):\n",
    "        return len(self.images)\n",
    "\n",
    "    def __getitem__(self, idx):\n",
    "        # if self.split:\n",
    "        #     raise ValueError(\"Dataset is split into training and validation subsets. Use 'get_train_dataset()' or 'get_val_dataset()' to access the respective subset.\")\n",
    "        img_path = self.images[idx]\n",
    "        image = Image.open(img_path)\n",
    "        label = self.labels[idx]\n",
    "\n",
    "        if self.transform:\n",
    "            image = self.transform(image)\n",
    "\n",
    "        return image, label\n",
    "\n",
    "    def get_train_dataset(self):\n",
    "        return Subset(self, self.train_indices)\n",
    "\n",
    "    def get_val_dataset(self):\n",
    "        return Subset(self, self.val_indices)"
   ]
  },
  {
   "cell_type": "code",
   "execution_count": 5,
   "metadata": {},
   "outputs": [],
   "source": [
    "# split_test = EmotionDatasetSplit(data_dir='C:/Users/joey5/OneDrive/KU/Fourth Year/AppML/Final_Project', transform=transforms.Compose([transforms.ToTensor()]), \n",
    "#                                            split=True)"
   ]
  },
  {
   "cell_type": "code",
   "execution_count": 6,
   "metadata": {},
   "outputs": [],
   "source": [
    "def load_custom_data(data_dir=\"./data\", batch_size=1):\n",
    "    transform = transforms.Compose([\n",
    "        # transforms.RandomRotation(15),\n",
    "        # transforms.RandomAffine(\n",
    "        #     degrees=0,\n",
    "        #     translate=(0.01, 0.12),\n",
    "        #     shear=(0.01, 0.03),\n",
    "        # ),\n",
    "        # transforms.RandomHorizontalFlip(),\n",
    "        transforms.ToTensor(),\n",
    "        transforms.Normalize((0.5), (0.5))\n",
    "    ])\n",
    "\n",
    "    train_dir = f\"{data_dir}/train\"\n",
    "    test_dir = f\"{data_dir}/test\"\n",
    "    \n",
    "    trainset = EmotionDataset(data_dir=train_dir, transform=transform)\n",
    "    testset = EmotionDataset(data_dir=test_dir, transform=transform)\n",
    "\n",
    "    return trainset, testset"
   ]
  },
  {
   "cell_type": "code",
   "execution_count": 7,
   "metadata": {},
   "outputs": [],
   "source": [
    "def load_custom_data_split(data_dir=\"./data\", batch_size=1, split=False, split_ratio=0.8):\n",
    "    transform = transforms.Compose([\n",
    "        # transforms.RandomRotation(15),\n",
    "        # transforms.RandomAffine(\n",
    "        #     degrees=0,\n",
    "        #     translate=(0.01, 0.12),\n",
    "        #     shear=(0.01, 0.03),\n",
    "        # ),\n",
    "        # transforms.RandomHorizontalFlip(),\n",
    "        transforms.ToTensor(),\n",
    "        transforms.Normalize((0.5), (0.5))\n",
    "    ])\n",
    "\n",
    "    train_dir = f\"{data_dir}/train\"\n",
    "    test_dir = f\"{data_dir}/test\"\n",
    "    \n",
    "    split_test = EmotionDatasetSplit(data_dir=train_dir, transform=transform, split=split, split_ratio=split_ratio)\n",
    "    trainset = split_test.get_train_dataset()\n",
    "    valset = split_test.get_val_dataset()\n",
    "    testset = EmotionDataset(data_dir=test_dir, transform=transform)\n",
    "\n",
    "    return trainset,valset, testset"
   ]
  },
  {
   "cell_type": "code",
   "execution_count": 8,
   "metadata": {},
   "outputs": [],
   "source": [
    "trainset_split, valset_split, testset_split = load_custom_data_split('C:/Users/joey5/OneDrive/KU/Fourth Year/AppML/Final_Project', batch_size=1, split=True, split_ratio=0.8)"
   ]
  },
  {
   "cell_type": "code",
   "execution_count": 9,
   "metadata": {},
   "outputs": [],
   "source": [
    "def accuracy(outputs, labels):\n",
    "    _, preds = torch.max(outputs, dim=1)\n",
    "    return torch.tensor(torch.sum(preds == labels).item() / len(preds))"
   ]
  },
  {
   "cell_type": "code",
   "execution_count": 10,
   "metadata": {},
   "outputs": [],
   "source": [
    "# Can be used for any Image Classification task\n",
    "\n",
    "class ImageClassificationBase(nn.Module):\n",
    "    def training_step(self, batch):\n",
    "        inputs, labels = batch\n",
    "        outputs = self(inputs)\n",
    "        loss = F.cross_entropy(outputs, labels)\n",
    "        # loss = F.nll_loss(outputs, labels) # Convert for problem at hand\n",
    "        acc = accuracy(outputs, labels)\n",
    "        return {'loss': loss, 'acc': acc.detach()}\n",
    "    \n",
    "    def validation_step(self, batch):\n",
    "        images, labels = batch \n",
    "        out = self(images)                    # Generate predictions\n",
    "        loss = F.cross_entropy(out, labels)   # Calculate loss\n",
    "        acc = accuracy(out, labels)           # Calculate accuracy\n",
    "        return {'val_loss': loss.detach(), 'val_acc': acc.detach()}\n",
    "        \n",
    "    def get_metrics_epoch_end(self, outputs, validation=True):\n",
    "        if validation:\n",
    "            loss_ = 'val_loss'\n",
    "            acc_ = 'val_acc'\n",
    "        else:\n",
    "            loss_ = 'loss'\n",
    "            acc_ = 'acc'\n",
    "\n",
    "        batch_losses = [x[f'{loss_}'] for x in outputs]\n",
    "        epoch_loss = torch.stack(batch_losses).mean()   \n",
    "        batch_accs = [x[f'{acc_}'] for x in outputs]\n",
    "        epoch_acc = torch.stack(batch_accs).mean()      \n",
    "        return {f'{loss_}': epoch_loss.detach().item(), f'{acc_}': epoch_acc.detach().item()}\n",
    "    \n",
    "    def epoch_end(self, epoch, result, num_epochs):\n",
    "        print(f\"Epoch: {epoch+1}/{num_epochs} loss: {result['loss']:.4f}, acc: {result['acc']:.4f}, val_loss: {result['val_loss']:.4f}, val_acc: {result['val_acc']:.4f}\\n\")"
   ]
  },
  {
   "cell_type": "code",
   "execution_count": 11,
   "metadata": {},
   "outputs": [],
   "source": [
    "# Define custom kernels\n",
    "horizontal_kernel = torch.tensor([[[-1, -1, -1],\n",
    "                                   [ 0,  0,  0],\n",
    "                                   [1, 1, 1]]], dtype=torch.float32)\n",
    "\n",
    "vertical_kernel = torch.tensor([[[-1,  0, 1],\n",
    "                                 [-1,  0, 1],\n",
    "                                 [-1,  0, 1]]], dtype=torch.float32)\n",
    "\n",
    "diagonal_kernel1 = torch.tensor([[[ 0, 1, 2],\n",
    "                                  [-1,  0, 1],\n",
    "                                  [-2, -1,  0]]], dtype=torch.float32)\n",
    "\n",
    "diagonal_kernel2 = torch.tensor([[[-2, -1,  0],\n",
    "                                  [-1,  0, 1],\n",
    "                                  [ 0, 1, 2]]], dtype=torch.float32)"
   ]
  },
  {
   "cell_type": "code",
   "execution_count": 19,
   "metadata": {},
   "outputs": [],
   "source": [
    "class EmotionRecognition(nn.Module):\n",
    "    def __init__(self):\n",
    "        super().__init__()\n",
    "        self.network = nn.Sequential(\n",
    "            nn.Conv2d(1, 128, kernel_size=(3, 3), padding=1),\n",
    "            nn.ReLU(),\n",
    "            nn.Conv2d(128, 128, kernel_size=(3, 3), padding=1),\n",
    "            nn.ReLU(),\n",
    "            nn.BatchNorm2d(128),\n",
    "            nn.MaxPool2d(2, 2),  # output: 128 x 24 x 24\n",
    "\n",
    "            nn.Conv2d(128, 64, kernel_size=(3, 3), padding=1),\n",
    "            nn.ReLU(),\n",
    "            nn.Conv2d(64, 64, kernel_size=(3, 3), padding=1),\n",
    "            nn.ReLU(),\n",
    "            nn.BatchNorm2d(64),\n",
    "            nn.MaxPool2d(2, 2),  # output: 64 x 12 x 12\n",
    "\n",
    "            nn.Conv2d(64, 32, kernel_size=(3, 3), padding=1),\n",
    "            nn.ReLU(),\n",
    "            nn.Conv2d(32, 32, kernel_size=(3, 3), padding=1),\n",
    "            nn.ReLU(),\n",
    "            nn.BatchNorm2d(32),\n",
    "            nn.MaxPool2d(2, 2),  # output: 32 x 6 x 6\n",
    "\n",
    "            nn.Flatten(),\n",
    "            nn.Linear(32 * 6 * 6, 256),\n",
    "            nn.ReLU(),\n",
    "            nn.Linear(256, 64),\n",
    "            nn.ReLU(),\n",
    "            nn.Linear(64, 7)\n",
    "        )\n",
    "\n",
    "        self._initialize_weights()\n",
    "\n",
    "    def _initialize_weights(self):\n",
    "        with torch.no_grad():\n",
    "            # Initialize the first convolutional layer with custom kernels\n",
    "            self.network[0].weight[0] = horizontal_kernel\n",
    "            self.network[0].weight[1] = vertical_kernel\n",
    "            self.network[0].weight[2] = diagonal_kernel1\n",
    "            self.network[0].weight[3] = diagonal_kernel2\n",
    "            # Initialize remaining filters randomly\n",
    "            nn.init.xavier_normal_(self.network[0].weight[4:])\n",
    "            nn.init.constant_(self.network[0].bias, 0)\n",
    "\n",
    "    def forward(self, xb):\n",
    "        return self.network(xb)\n",
    "\n",
    "    def __repr__(self):\n",
    "        return f\"{self.network}\"\n",
    "\n",
    "    def __str__(self):\n",
    "        summary(self.network, (1, 48, 48))\n",
    "\n",
    "    def training_step(self, batch):\n",
    "        images, labels = batch\n",
    "        out = self(images)                  # Generate predictions\n",
    "        loss = F.cross_entropy(out, labels) # Calculate loss\n",
    "        return {'loss': loss}\n",
    "\n",
    "    def validation_step(self, batch):\n",
    "        images, labels = batch\n",
    "        out = self(images)                  # Generate predictions\n",
    "        loss = F.cross_entropy(out, labels) # Calculate loss\n",
    "        acc = accuracy(out, labels)         # Calculate accuracy\n",
    "        return {'val_loss': loss.detach(), 'val_acc': acc}\n",
    "\n",
    "    def get_metrics_epoch_end(self, outputs, validation=False):\n",
    "        if validation:\n",
    "            batch_losses = [x['val_loss'] for x in outputs]\n",
    "            epoch_loss = torch.stack(batch_losses).mean()   # Combine losses\n",
    "            batch_accs = [x['val_acc'] for x in outputs]\n",
    "            epoch_acc = torch.stack(batch_accs).mean()      # Combine accuracies\n",
    "            return {'val_loss': epoch_loss.item(), 'val_acc': epoch_acc.item()}\n",
    "        else:\n",
    "            batch_losses = [x['loss'] for x in outputs]\n",
    "            epoch_loss = torch.stack(batch_losses).mean()   # Combine losses\n",
    "            return {'train_loss': epoch_loss.item()}\n",
    "\n",
    "    def epoch_end(self, epoch, result, epochs):\n",
    "        print(f\"Epoch [{epoch+1}/{epochs}], train_loss: {result['train_loss']:.4f}, val_loss: {result['val_loss']:.4f}, val_acc: {result['val_acc']:.4f}\")\n"
   ]
  },
  {
   "cell_type": "code",
   "execution_count": 20,
   "metadata": {},
   "outputs": [],
   "source": [
    "def accuracy(outputs, labels):\n",
    "    _, preds = torch.max(outputs, dim=1)\n",
    "    return torch.tensor(torch.sum(preds == labels).item() / len(preds))\n",
    "\n",
    "\n",
    "@torch.no_grad()\n",
    "def evaluate(model, val_loader):\n",
    "    model.eval()\n",
    "    outputs = [model.validation_step(batch) for batch in val_loader]\n",
    "    return model.get_metrics_epoch_end(outputs=outputs, validation=True)\n",
    "\n",
    "\n",
    "def get_lr(optimizer):\n",
    "    for param_group in optimizer.param_groups:\n",
    "        return param_group['lr']\n"
   ]
  },
  {
   "cell_type": "code",
   "execution_count": 21,
   "metadata": {},
   "outputs": [],
   "source": [
    "def fit_model(model, epochs, lr, train_loader, val_loader, weight_decay=0, grad_clip=None, opt_func=torch.optim.SGD,model_name = \"test_model\"):\n",
    "    \n",
    "    BEST_VAL_SCORE = 0.0 # for keeping track of best model score\n",
    "    history = []\n",
    "\n",
    "    optimizer = opt_func(model.parameters(), lr, weight_decay=weight_decay,momentum=0.9)\n",
    "\n",
    "    for epoch in range(epochs):\n",
    "        train_history = []\n",
    "\n",
    "        # Training Phase \n",
    "        model.train()\n",
    "        for batch in tqdm(train_loader, ascii=True, desc=f'Epoch: {epoch+1}/{epochs}'):\n",
    "            info = model.training_step(batch)\n",
    "            loss = info['loss']\n",
    "            # contains batch loss and acc for training phase\n",
    "            train_history.append(info)\n",
    "            loss.backward()\n",
    "\n",
    "            # Gradient clipping\n",
    "            if grad_clip:\n",
    "                nn.utils.clip_grad_value_(model.parameters(), grad_clip)\n",
    "\n",
    "            optimizer.step()\n",
    "            optimizer.zero_grad()\n",
    "\n",
    "        train_result = model.get_metrics_epoch_end(train_history, validation=False)\n",
    "        val_result = evaluate(model, val_loader)\n",
    "        result = {**train_result, **val_result}\n",
    "        model.epoch_end(epoch, result, epochs)\n",
    "\n",
    "        # Save the best model\n",
    "        if result['val_acc'] > BEST_VAL_SCORE:\n",
    "            BEST_VAL_SCORE = result['val_acc']\n",
    "            save_name = f\"{model_name}_e{epoch+1}_sc-{round(result['val_acc'], 4)}.pth\"\n",
    "            torch.save(model.state_dict(), save_name)\n",
    "\n",
    "        history.append(result)\n",
    "    return history\n",
    "\n",
    "\n",
    "@torch.no_grad()\n",
    "def generate_prediction(model, data, extract=False):\n",
    "    test_dl = DataLoader(data, batch_size=1, shuffle=False)\n",
    "\n",
    "    model.eval()\n",
    "    outputs = [model.validation_step(batch) for batch in test_dl]\n",
    "    metrics = model.get_metrics_epoch_end(outputs=outputs, validation=True)\n",
    "    \n",
    "    if not extract:\n",
    "        print(f\"Test Scores:\\n Loss: {round(metrics['val_loss'], 3)}, Accuracy: {round(metrics['val_acc'], 3)}\")\n",
    "    else:\n",
    "        return metrics\n",
    "\n",
    "\n",
    "def end_to_end(trainset, valset,testset, parameters, extract=False,tn = \"test_model\"):\n",
    "    torch.cuda.empty_cache()\n",
    "\n",
    "    BATCH_SIZE = parameters[\"batch_size\"]\n",
    "    epochs = parameters[\"epochs\"]\n",
    "    lr = parameters[\"lr\"]\n",
    "    weight_decay = parameters[\"weight_decay\"]\n",
    "    grad_clip = parameters[\"grad_clip\"]\n",
    "    opt_func = parameters[\"opt_func\"]\n",
    "\n",
    "    train_dl = DataLoader(trainset, BATCH_SIZE, shuffle=True)\n",
    "    valid_dl = DataLoader(valset, BATCH_SIZE, shuffle=True)\n",
    "    \n",
    "    model = EmotionRecognition()\n",
    "\n",
    "    history = fit_model(\n",
    "                model, \n",
    "                epochs, \n",
    "                lr, \n",
    "                train_dl, \n",
    "                valid_dl,\n",
    "                weight_decay, \n",
    "                grad_clip, \n",
    "                opt_func,\n",
    "                model_name=tn\n",
    "            )\n",
    "\n",
    "    torch.cuda.empty_cache()\n",
    "\n",
    "    print(\"Generating predictions on the Test set\")\n",
    "    pred = generate_prediction(model, testset, extract=extract)\n",
    "    print(\"Test set prediction accuracy: \", pred['val_acc'])\n",
    "    return history, pred"
   ]
  },
  {
   "cell_type": "code",
   "execution_count": 22,
   "metadata": {},
   "outputs": [],
   "source": [
    "training_parameters_final = {\n",
    "    \"epochs\": 10,\n",
    "    \"lr\": 1e-3,\n",
    "    \"weight_decay\": 0.001,\n",
    "    \"grad_clip\": 0.5e-2,\n",
    "    \"opt_func\": torch.optim.SGD,\n",
    "    \"batch_size\": 64\n",
    "\n",
    "}"
   ]
  },
  {
   "cell_type": "code",
   "execution_count": 23,
   "metadata": {},
   "outputs": [
    {
     "name": "stderr",
     "output_type": "stream",
     "text": [
      "Epoch: 1/10: 100%|##########| 359/359 [04:57<00:00,  1.21it/s]\n",
      "Epoch: 2/10:   0%|          | 0/359 [00:00<?, ?it/s]"
     ]
    },
    {
     "name": "stdout",
     "output_type": "stream",
     "text": [
      "Epoch [1/10], train_loss: 1.7732, val_loss: 1.6405, val_acc: 0.3665\n"
     ]
    },
    {
     "name": "stderr",
     "output_type": "stream",
     "text": [
      "Epoch: 2/10: 100%|##########| 359/359 [05:00<00:00,  1.20it/s]\n",
      "Epoch: 3/10:   0%|          | 0/359 [00:00<?, ?it/s]"
     ]
    },
    {
     "name": "stdout",
     "output_type": "stream",
     "text": [
      "Epoch [2/10], train_loss: 1.5129, val_loss: 1.4214, val_acc: 0.4567\n"
     ]
    },
    {
     "name": "stderr",
     "output_type": "stream",
     "text": [
      "Epoch: 3/10: 100%|##########| 359/359 [05:00<00:00,  1.19it/s]\n",
      "Epoch: 4/10:   0%|          | 0/359 [00:00<?, ?it/s]"
     ]
    },
    {
     "name": "stdout",
     "output_type": "stream",
     "text": [
      "Epoch [3/10], train_loss: 1.3598, val_loss: 1.3546, val_acc: 0.4805\n"
     ]
    },
    {
     "name": "stderr",
     "output_type": "stream",
     "text": [
      "Epoch: 4/10: 100%|##########| 359/359 [04:59<00:00,  1.20it/s]\n",
      "Epoch: 5/10:   0%|          | 0/359 [00:00<?, ?it/s]"
     ]
    },
    {
     "name": "stdout",
     "output_type": "stream",
     "text": [
      "Epoch [4/10], train_loss: 1.2747, val_loss: 1.3110, val_acc: 0.5014\n"
     ]
    },
    {
     "name": "stderr",
     "output_type": "stream",
     "text": [
      "Epoch: 5/10: 100%|##########| 359/359 [05:06<00:00,  1.17it/s]\n",
      "Epoch: 6/10:   0%|          | 0/359 [00:00<?, ?it/s]"
     ]
    },
    {
     "name": "stdout",
     "output_type": "stream",
     "text": [
      "Epoch [5/10], train_loss: 1.2005, val_loss: 1.2917, val_acc: 0.5191\n"
     ]
    },
    {
     "name": "stderr",
     "output_type": "stream",
     "text": [
      "Epoch: 6/10: 100%|##########| 359/359 [04:59<00:00,  1.20it/s]\n",
      "Epoch: 7/10:   0%|          | 0/359 [00:00<?, ?it/s]"
     ]
    },
    {
     "name": "stdout",
     "output_type": "stream",
     "text": [
      "Epoch [6/10], train_loss: 1.1290, val_loss: 1.2808, val_acc: 0.5171\n"
     ]
    },
    {
     "name": "stderr",
     "output_type": "stream",
     "text": [
      "Epoch: 7/10: 100%|##########| 359/359 [04:59<00:00,  1.20it/s]\n",
      "Epoch: 8/10:   0%|          | 0/359 [00:00<?, ?it/s]"
     ]
    },
    {
     "name": "stdout",
     "output_type": "stream",
     "text": [
      "Epoch [7/10], train_loss: 1.0621, val_loss: 1.2662, val_acc: 0.5303\n"
     ]
    },
    {
     "name": "stderr",
     "output_type": "stream",
     "text": [
      "Epoch: 8/10: 100%|##########| 359/359 [05:01<00:00,  1.19it/s]\n",
      "Epoch: 9/10:   0%|          | 0/359 [00:00<?, ?it/s]"
     ]
    },
    {
     "name": "stdout",
     "output_type": "stream",
     "text": [
      "Epoch [8/10], train_loss: 0.9979, val_loss: 1.2838, val_acc: 0.5246\n"
     ]
    },
    {
     "name": "stderr",
     "output_type": "stream",
     "text": [
      "Epoch: 9/10: 100%|##########| 359/359 [06:00<00:00,  1.00s/it]\n",
      "Epoch: 10/10:   0%|          | 0/359 [00:00<?, ?it/s]"
     ]
    },
    {
     "name": "stdout",
     "output_type": "stream",
     "text": [
      "Epoch [9/10], train_loss: 0.9334, val_loss: 1.2826, val_acc: 0.5275\n"
     ]
    },
    {
     "name": "stderr",
     "output_type": "stream",
     "text": [
      "Epoch: 10/10: 100%|##########| 359/359 [05:23<00:00,  1.11it/s]\n"
     ]
    },
    {
     "name": "stdout",
     "output_type": "stream",
     "text": [
      "Epoch [10/10], train_loss: 0.8709, val_loss: 1.3080, val_acc: 0.5245\n",
      "Generating predictions on the Test set\n",
      "Test set prediction accuracy:  0.508080244064331\n"
     ]
    }
   ],
   "source": [
    "history_final,pred_final = end_to_end(trainset_split,valset_split, testset_split, training_parameters_final, extract=True, tn=\"fm_8\")"
   ]
  },
  {
   "cell_type": "code",
   "execution_count": null,
   "metadata": {},
   "outputs": [],
   "source": []
  },
  {
   "cell_type": "code",
   "execution_count": 26,
   "metadata": {},
   "outputs": [
    {
     "data": {
      "text/plain": [
       "<All keys matched successfully>"
      ]
     },
     "execution_count": 26,
     "metadata": {},
     "output_type": "execute_result"
    }
   ],
   "source": [
    "# Load the model\n",
    "model = EmotionRecognition()\n",
    "model.load_state_dict(torch.load(\"fm_8_e7_sc-0.5303.pth\"))\n",
    "\n",
    "\n"
   ]
  },
  {
   "cell_type": "code",
   "execution_count": 49,
   "metadata": {},
   "outputs": [],
   "source": [
    "\n",
    "def plot_confusion_matrix(cm, class_names,name = \"Confusion Matrix\"):\n",
    "    figure, ax = plt.subplots(figsize=(5, 5))\n",
    "    cm_norm = cm / np.sum(cm, axis=1, keepdims=True)\n",
    "    ax.imshow(cm_norm, interpolation='nearest', cmap=plt.get_cmap('Blues'), vmin=0, vmax=1)\n",
    "    accuracy_ = np.trace(cm) / float(np.sum(cm))\n",
    "    ax.set_title(f'Accuracy: {100*accuracy_:.2f}%', fontsize=14, fontweight='bold')\n",
    "    tick_marks = np.arange(len(class_names))\n",
    "    ax.set_xticks(tick_marks)\n",
    "    ax.set_xticklabels(class_names, rotation=45)\n",
    "    ax.set_yticks(tick_marks)\n",
    "    ax.set_yticklabels(class_names)\n",
    "\n",
    "    for i in range(len(class_names)):\n",
    "        for j in range(len(class_names)):\n",
    "            ax.text(j, i, f'{cm_norm[i, j]:.2f}', ha='center', va='center', color='k')\n",
    "\n",
    "    figure.tight_layout()\n",
    "    plt.xlabel('Predicted', fontweight='bold', fontsize=14)\n",
    "    plt.ylabel('True', fontweight='bold', fontsize=14)\n",
    "    plt.savefig(name+\".png\",bbox_inches='tight')\n",
    "    plt.show()\n",
    "    \n",
    "\n",
    "def generate_confusion_matrix(model, data,name = \"Confusion Matrix\") -> None:\n",
    "    '''Generate confusion matrix on the test set'''\n",
    "    # load test dataset\n",
    "    test_dl = DataLoader(data, batch_size=1, shuffle=False)\n",
    "\n",
    "    # generate prediction using the validation step method defined in Base class\n",
    "    with torch.no_grad():\n",
    "        model.eval()\n",
    "        all_preds = []\n",
    "        all_labels = []\n",
    "        for batch in test_dl:\n",
    "            images, labels = batch\n",
    "            preds = model(images)\n",
    "            all_preds.append(preds)\n",
    "            all_labels.append(labels)\n",
    "\n",
    "        all_preds = torch.cat(all_preds, dim=0)\n",
    "        all_labels = torch.cat(all_labels, dim=0)\n",
    "        cm = confusion_matrix(all_labels.cpu().numpy(), torch.argmax(all_preds, dim=1).cpu().numpy())\n",
    "        plot_confusion_matrix(cm, class_names=['angry', 'disgust', 'fear', 'happy', 'neutral','sad', 'surprise'],name=name)\n"
   ]
  },
  {
   "cell_type": "code",
   "execution_count": 28,
   "metadata": {},
   "outputs": [
    {
     "data": {
      "image/png": "[encoded data removed]",
      "text/plain": [
       "<Figure size 360x360 with 1 Axes>"
      ]
     },
     "metadata": {
      "needs_background": "light"
     },
     "output_type": "display_data"
    }
   ],
   "source": [
    "generate_confusion_matrix(model, testset_split,name=\"Confusion_Matrix_Final\") # Confusion Matrix"
   ]
  },
  {
   "cell_type": "code",
   "execution_count": 33,
   "metadata": {},
   "outputs": [],
   "source": [
    "# Generate the loss and accuracy plots\n",
    "def plot_loss(history):\n",
    "    losses = [x['train_loss'] for x in history]\n",
    "    val_losses = [x['val_loss'] for x in history]\n",
    "    accs = [x['val_acc'] for x in history]\n",
    "    plt.figure(figsize=(10, 5))\n",
    "    plt.subplot(1, 2, 1)\n",
    "    plt.plot(losses, '-x', label='train_loss')\n",
    "    plt.plot(val_losses, '-o', label='val_loss')\n",
    "    plt.xlabel('epoch')\n",
    "    plt.ylabel('loss')\n",
    "    plt.legend()\n",
    "    plt.title('Loss vs. epochs')\n",
    "\n",
    "    plt.subplot(1, 2, 2)\n",
    "    plt.plot(accs, '-x', label='val_acc')\n",
    "    plt.xlabel('epoch')\n",
    "    plt.ylabel('accuracy')\n",
    "    plt.legend()\n",
    "    plt.title('Accuracy vs. epochs')\n",
    "    plt.show()\n",
    "    return losses, val_losses, accs"
   ]
  },
  {
   "cell_type": "code",
   "execution_count": null,
   "metadata": {},
   "outputs": [],
   "source": []
  },
  {
   "cell_type": "code",
   "execution_count": null,
   "metadata": {},
   "outputs": [],
   "source": []
  },
  {
   "cell_type": "code",
   "execution_count": 30,
   "metadata": {},
   "outputs": [],
   "source": [
    "training_parameters_luxury = {\n",
    "    \"epochs\": 10,\n",
    "    \"lr\": 1.5e-3,\n",
    "    \"weight_decay\": 0.001,\n",
    "    \"grad_clip\": 0.5e-2,\n",
    "    \"opt_func\": torch.optim.SGD,\n",
    "    \"batch_size\": 64\n",
    "\n",
    "}"
   ]
  },
  {
   "cell_type": "code",
   "execution_count": 31,
   "metadata": {},
   "outputs": [
    {
     "name": "stderr",
     "output_type": "stream",
     "text": [
      "Epoch: 1/10: 100%|##########| 359/359 [05:13<00:00,  1.14it/s]\n",
      "Epoch: 2/10:   0%|          | 0/359 [00:00<?, ?it/s]"
     ]
    },
    {
     "name": "stdout",
     "output_type": "stream",
     "text": [
      "Epoch [1/10], train_loss: 1.6998, val_loss: 1.5168, val_acc: 0.4180\n"
     ]
    },
    {
     "name": "stderr",
     "output_type": "stream",
     "text": [
      "Epoch: 2/10: 100%|##########| 359/359 [07:17<00:00,  1.22s/it]\n",
      "Epoch: 3/10:   0%|          | 0/359 [00:00<?, ?it/s]"
     ]
    },
    {
     "name": "stdout",
     "output_type": "stream",
     "text": [
      "Epoch [2/10], train_loss: 1.4222, val_loss: 1.3821, val_acc: 0.4735\n"
     ]
    },
    {
     "name": "stderr",
     "output_type": "stream",
     "text": [
      "Epoch: 3/10: 100%|##########| 359/359 [05:01<00:00,  1.19it/s]\n",
      "Epoch: 4/10:   0%|          | 0/359 [00:00<?, ?it/s]"
     ]
    },
    {
     "name": "stdout",
     "output_type": "stream",
     "text": [
      "Epoch [3/10], train_loss: 1.2954, val_loss: 1.3163, val_acc: 0.5005\n"
     ]
    },
    {
     "name": "stderr",
     "output_type": "stream",
     "text": [
      "Epoch: 4/10: 100%|##########| 359/359 [04:59<00:00,  1.20it/s]\n",
      "Epoch: 5/10:   0%|          | 0/359 [00:00<?, ?it/s]"
     ]
    },
    {
     "name": "stdout",
     "output_type": "stream",
     "text": [
      "Epoch [4/10], train_loss: 1.2006, val_loss: 1.2686, val_acc: 0.5240\n"
     ]
    },
    {
     "name": "stderr",
     "output_type": "stream",
     "text": [
      "Epoch: 5/10: 100%|##########| 359/359 [05:01<00:00,  1.19it/s]\n",
      "Epoch: 6/10:   0%|          | 0/359 [00:00<?, ?it/s]"
     ]
    },
    {
     "name": "stdout",
     "output_type": "stream",
     "text": [
      "Epoch [5/10], train_loss: 1.1206, val_loss: 1.2543, val_acc: 0.5299\n"
     ]
    },
    {
     "name": "stderr",
     "output_type": "stream",
     "text": [
      "Epoch: 6/10: 100%|##########| 359/359 [05:05<00:00,  1.17it/s]\n",
      "Epoch: 7/10:   0%|          | 0/359 [00:00<?, ?it/s]"
     ]
    },
    {
     "name": "stdout",
     "output_type": "stream",
     "text": [
      "Epoch [6/10], train_loss: 1.0464, val_loss: 1.2705, val_acc: 0.5261\n"
     ]
    },
    {
     "name": "stderr",
     "output_type": "stream",
     "text": [
      "Epoch: 7/10: 100%|##########| 359/359 [08:32<00:00,  1.43s/it]\n",
      "Epoch: 8/10:   0%|          | 0/359 [00:00<?, ?it/s]"
     ]
    },
    {
     "name": "stdout",
     "output_type": "stream",
     "text": [
      "Epoch [7/10], train_loss: 0.9800, val_loss: 1.2574, val_acc: 0.5300\n"
     ]
    },
    {
     "name": "stderr",
     "output_type": "stream",
     "text": [
      "Epoch: 8/10: 100%|##########| 359/359 [05:12<00:00,  1.15it/s]\n",
      "Epoch: 9/10:   0%|          | 0/359 [00:00<?, ?it/s]"
     ]
    },
    {
     "name": "stdout",
     "output_type": "stream",
     "text": [
      "Epoch [8/10], train_loss: 0.9152, val_loss: 1.2824, val_acc: 0.5353\n"
     ]
    },
    {
     "name": "stderr",
     "output_type": "stream",
     "text": [
      "Epoch: 9/10: 100%|##########| 359/359 [05:05<00:00,  1.18it/s]\n",
      "Epoch: 10/10:   0%|          | 0/359 [00:00<?, ?it/s]"
     ]
    },
    {
     "name": "stdout",
     "output_type": "stream",
     "text": [
      "Epoch [9/10], train_loss: 0.8424, val_loss: 1.3054, val_acc: 0.5354\n"
     ]
    },
    {
     "name": "stderr",
     "output_type": "stream",
     "text": [
      "Epoch: 10/10: 100%|##########| 359/359 [05:10<00:00,  1.16it/s]\n"
     ]
    },
    {
     "name": "stdout",
     "output_type": "stream",
     "text": [
      "Epoch [10/10], train_loss: 0.7739, val_loss: 1.3221, val_acc: 0.5334\n",
      "Generating predictions on the Test set\n",
      "Test set prediction accuracy:  0.5242407321929932\n"
     ]
    }
   ],
   "source": [
    "history_luxury,pred_luxury = end_to_end(trainset_split,valset_split, testset_split, training_parameters_luxury, extract=True, tn=\"fm_luxury\")"
   ]
  },
  {
   "cell_type": "code",
   "execution_count": 40,
   "metadata": {},
   "outputs": [
    {
     "data": {
      "image/png": "[encoded data removed]",
      "text/plain": [
       "<Figure size 720x360 with 2 Axes>"
      ]
     },
     "metadata": {
      "needs_background": "light"
     },
     "output_type": "display_data"
    }
   ],
   "source": [
    "loss_lux,val_loss_lux,val_accs_lux =plot_loss(history_luxury)\n",
    "#Export the loss and accuracy values to separate csv files\n",
    "df = pd.DataFrame(list(zip(loss_lux,val_loss_lux,val_accs_lux)), columns =['loss', 'val_loss','val_acc'])\n",
    "df.to_csv('loss_lux.csv', index=False)"
   ]
  },
  {
   "cell_type": "code",
   "execution_count": 44,
   "metadata": {},
   "outputs": [
    {
     "data": {
      "text/plain": [
       "<All keys matched successfully>"
      ]
     },
     "execution_count": 44,
     "metadata": {},
     "output_type": "execute_result"
    }
   ],
   "source": [
    "model_lux = EmotionRecognition()\n",
    "model_lux.load_state_dict(torch.load(\"fm_luxury_e8_sc-0.5353.pth\"))"
   ]
  },
  {
   "cell_type": "code",
   "execution_count": 47,
   "metadata": {},
   "outputs": [
    {
     "data": {
      "text/plain": [
       "{'val_loss': 1.3334062099456787, 'val_acc': 0.5242407321929932}"
      ]
     },
     "execution_count": 47,
     "metadata": {},
     "output_type": "execute_result"
    }
   ],
   "source": [
    "pred_luxury"
   ]
  },
  {
   "cell_type": "code",
   "execution_count": 50,
   "metadata": {},
   "outputs": [
    {
     "data": {
      "image/png": "[encoded data removed]",
      "text/plain": [
       "<Figure size 360x360 with 1 Axes>"
      ]
     },
     "metadata": {
      "needs_background": "light"
     },
     "output_type": "display_data"
    }
   ],
   "source": [
    "generate_confusion_matrix(model_lux, testset_split,name=\"Confusion_Matrix_Luxury\") # Confusion Matrix"
   ]
  },
  {
   "cell_type": "code",
   "execution_count": 58,
   "metadata": {},
   "outputs": [
    {
     "name": "stdout",
     "output_type": "stream",
     "text": [
      "----------------------------------------------------------------\n",
      "        Layer (type)               Output Shape         Param #\n",
      "================================================================\n",
      "            Conv2d-1          [-1, 128, 48, 48]           1,280\n",
      "              ReLU-2          [-1, 128, 48, 48]               0\n",
      "            Conv2d-3          [-1, 128, 48, 48]         147,584\n",
      "              ReLU-4          [-1, 128, 48, 48]               0\n",
      "       BatchNorm2d-5          [-1, 128, 48, 48]             256\n",
      "         MaxPool2d-6          [-1, 128, 24, 24]               0\n",
      "            Conv2d-7           [-1, 64, 24, 24]          73,792\n",
      "              ReLU-8           [-1, 64, 24, 24]               0\n",
      "            Conv2d-9           [-1, 64, 24, 24]          36,928\n",
      "             ReLU-10           [-1, 64, 24, 24]               0\n",
      "      BatchNorm2d-11           [-1, 64, 24, 24]             128\n",
      "        MaxPool2d-12           [-1, 64, 12, 12]               0\n",
      "           Conv2d-13           [-1, 32, 12, 12]          18,464\n",
      "             ReLU-14           [-1, 32, 12, 12]               0\n",
      "           Conv2d-15           [-1, 32, 12, 12]           9,248\n",
      "             ReLU-16           [-1, 32, 12, 12]               0\n",
      "      BatchNorm2d-17           [-1, 32, 12, 12]              64\n",
      "        MaxPool2d-18             [-1, 32, 6, 6]               0\n",
      "          Flatten-19                 [-1, 1152]               0\n",
      "           Linear-20                  [-1, 256]         295,168\n",
      "             ReLU-21                  [-1, 256]               0\n",
      "           Linear-22                   [-1, 64]          16,448\n",
      "             ReLU-23                   [-1, 64]               0\n",
      "           Linear-24                    [-1, 7]             455\n",
      "================================================================\n",
      "Total params: 599,815\n",
      "Trainable params: 599,815\n",
      "Non-trainable params: 0\n",
      "----------------------------------------------------------------\n",
      "Input size (MB): 0.01\n",
      "Forward/backward pass size (MB): 13.49\n",
      "Params size (MB): 2.29\n",
      "Estimated Total Size (MB): 15.78\n",
      "----------------------------------------------------------------\n"
     ]
    },
    {
     "ename": "TypeError",
     "evalue": "__str__ returned non-string (type NoneType)",
     "output_type": "error",
     "traceback": [
      "\u001b[1;31m---------------------------------------------------------------------------\u001b[0m",
      "\u001b[1;31mTypeError\u001b[0m                                 Traceback (most recent call last)",
      "\u001b[1;32m<ipython-input-58-a87813ffe34d>\u001b[0m in \u001b[0;36m<module>\u001b[1;34m\u001b[0m\n\u001b[1;32m----> 1\u001b[1;33m \u001b[0mprint\u001b[0m\u001b[1;33m(\u001b[0m\u001b[0mmodel\u001b[0m\u001b[1;33m)\u001b[0m\u001b[1;33m\u001b[0m\u001b[1;33m\u001b[0m\u001b[0m\n\u001b[0m",
      "\u001b[1;31mTypeError\u001b[0m: __str__ returned non-string (type NoneType)"
     ]
    }
   ],
   "source": [
    "print(model)"
   ]
  },
  {
   "cell_type": "code",
   "execution_count": null,
   "metadata": {},
   "outputs": [],
   "source": []
  }
 ],
 "metadata": {
  "kernelspec": {
   "display_name": "base",
   "language": "python",
   "name": "python3"
  },
  "language_info": {
   "codemirror_mode": {
    "name": "ipython",
    "version": 3
   },
   "file_extension": ".py",
   "mimetype": "text/x-python",
   "name": "python",
   "nbconvert_exporter": "python",
   "pygments_lexer": "ipython3",
   "version": "3.8.3"
  }
 },
 "nbformat": 4,
 "nbformat_minor": 2
}
