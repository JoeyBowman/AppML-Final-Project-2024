{
 "cells": [
  {
   "cell_type": "code",
   "execution_count": 12,
   "metadata": {},
   "outputs": [],
   "source": [
    "import numpy as np\n",
    "import matplotlib.pyplot as plt\n",
    "import pandas as pd\n",
    "import seaborn as sns\n",
    "import torch as torch\n",
    "import torchvision as tv\n",
    "from functools import partial\n",
    "import os\n",
    "import tempfile\n",
    "from pathlib import Path\n",
    "import fsspec\n",
    "from sklearn.metrics import confusion_matrix, classification_report\n",
    "from sklearn.model_selection import train_test_split\n",
    "from torchsummary import summary"
   ]
  },
  {
   "cell_type": "code",
   "execution_count": 13,
   "metadata": {},
   "outputs": [],
   "source": [
    "import torch.nn.functional as F\n",
    "import torch.nn as nn\n",
    "import torch.optim as optim\n",
    "from torch.utils.data import random_split\n",
    "import torchvision.transforms as transforms\n",
    "import pyarrow.fs\n",
    "import ray.cloudpickle as pickle\n",
    "from torch.utils.data import Dataset, DataLoader, Subset\n",
    "from PIL import Image\n",
    "from tqdm import tqdm"
   ]
  },
  {
   "cell_type": "code",
   "execution_count": 14,
   "metadata": {},
   "outputs": [],
   "source": [
    "class EmotionDataset(Dataset):\n",
    "    def __init__(self, data_dir, transform=None):\n",
    "        self.data_dir = data_dir\n",
    "        self.transform = transform\n",
    "        self.split = False\n",
    "        self.images = []\n",
    "        self.labels = []\n",
    "        self.load_data()\n",
    "\n",
    "    def load_data(self):\n",
    "        # Assuming a structure where each class has its own subdirectory\n",
    "        for label, class_dir in enumerate(os.listdir(self.data_dir)):\n",
    "            class_path = os.path.join(self.data_dir, class_dir)\n",
    "            for count, img_name in enumerate(os.listdir(class_path)):\n",
    "                # if count > 700:\n",
    "                #     break\n",
    "                img_path = os.path.join(class_path, img_name)\n",
    "                self.images.append(img_path)\n",
    "                self.labels.append(label)\n",
    "\n",
    "    def __len__(self):\n",
    "        return len(self.images)\n",
    "\n",
    "    def __getitem__(self, idx):\n",
    "        img_path = self.images[idx]\n",
    "        image = Image.open(img_path)\n",
    "        label = self.labels[idx]\n",
    "\n",
    "        if self.transform:\n",
    "            image = self.transform(image)\n",
    "\n",
    "        return image, label"
   ]
  },
  {
   "cell_type": "code",
   "execution_count": 26,
   "metadata": {},
   "outputs": [],
   "source": [
    "\n",
    "def save_augmented_images(data_dir, augment_dir, classes_to_augment, num_augmentations=2):\n",
    "    augment_transform = transforms.Compose([\n",
    "        transforms.RandomRotation(15),\n",
    "        transforms.RandomAffine(\n",
    "            degrees=0,\n",
    "            translate=(0.01, 0.12),\n",
    "            shear=(0.01, 0.03),\n",
    "        ),\n",
    "        transforms.RandomHorizontalFlip(),\n",
    "    ])\n",
    "\n",
    "    if not os.path.exists(augment_dir):\n",
    "        os.makedirs(augment_dir)\n",
    "\n",
    "    for class_dir in os.listdir(data_dir):\n",
    "        class_path = os.path.join(data_dir, class_dir)\n",
    "        augment_class_path = os.path.join(augment_dir, class_dir)\n",
    "        if not os.path.exists(augment_class_path):\n",
    "            os.makedirs(augment_class_path)\n",
    "\n",
    "        for img_name in os.listdir(class_path):\n",
    "            img_path = os.path.join(class_path, img_name)\n",
    "            image = Image.open(img_path)\n",
    "\n",
    "            # Copy the original image to the augmented directory\n",
    "            image.save(os.path.join(augment_class_path, img_name))\n",
    "\n",
    "            # If the class is in the list of classes to augment, save augmented images\n",
    "            if class_dir in classes_to_augment:\n",
    "                for i in range(num_augmentations):\n",
    "                    augmented_image = augment_transform(image)\n",
    "                    augmented_img_name = f\"{os.path.splitext(img_name)[0]}_aug_{i}.png\"\n",
    "                    augmented_img_path = os.path.join(augment_class_path, augmented_img_name)\n",
    "                    augmented_image.save(augmented_img_path)\n",
    "\n",
    "# Define the paths and classes to augment\n",
    "train_dir = \"C:/Users/joey5/OneDrive/KU/Fourth Year/AppML/Final_Project/train\"\n",
    "augment_dir = \"C:/Users/joey5/OneDrive/KU/Fourth Year/AppML/Final_Project/train_aug\"\n",
    "classes_to_augment = [ 'disgusted']\n",
    "\n",
    "# # Call the function to save augmented images\n",
    "# save_augmented_images(train_dir, augment_dir, classes_to_augment, num_augmentations=10)\n"
   ]
  },
  {
   "cell_type": "code",
   "execution_count": 27,
   "metadata": {},
   "outputs": [],
   "source": [
    "class EmotionDatasetSplit(Dataset):\n",
    "    def __init__(self, data_dir, transform=None, split=False, split_ratio=0.8):\n",
    "        self.data_dir = data_dir\n",
    "        self.transform = transform\n",
    "        self.split = split\n",
    "        self.split_ratio = split_ratio\n",
    "        self.images = []\n",
    "        self.labels = []\n",
    "        self.train_indices = []\n",
    "        self.val_indices = []\n",
    "        self.load_data()\n",
    "        \n",
    "        if self.split:\n",
    "            self.train_indices, self.val_indices = self._split_data()\n",
    "\n",
    "    def load_data(self):\n",
    "        # Assuming a structure where each class has its own subdirectory\n",
    "        for label, class_dir in enumerate(os.listdir(self.data_dir)):\n",
    "            class_path = os.path.join(self.data_dir, class_dir)\n",
    "            if os.path.isdir(class_path):\n",
    "                for img_name in os.listdir(class_path):\n",
    "                    img_path = os.path.join(class_path, img_name)\n",
    "                    if os.path.isfile(img_path) and img_name.lower().endswith(('.png', '.jpg', '.jpeg')):\n",
    "                        self.images.append(img_path)\n",
    "                        self.labels.append(label)\n",
    "\n",
    "    def _split_data(self):\n",
    "        indices = np.arange(len(self.images))\n",
    "        train_indices, val_indices = train_test_split(indices, test_size=1-self.split_ratio, random_state=42)\n",
    "        return train_indices, val_indices\n",
    "\n",
    "    def __len__(self):\n",
    "        return len(self.images)\n",
    "\n",
    "    def __getitem__(self, idx):\n",
    "        # if self.split:\n",
    "        #     raise ValueError(\"Dataset is split into training and validation subsets. Use 'get_train_dataset()' or 'get_val_dataset()' to access the respective subset.\")\n",
    "        img_path = self.images[idx]\n",
    "        image = Image.open(img_path)\n",
    "        label = self.labels[idx]\n",
    "\n",
    "        if self.transform:\n",
    "            image = self.transform(image)\n",
    "\n",
    "        return image, label\n",
    "\n",
    "    def get_train_dataset(self):\n",
    "        return Subset(self, self.train_indices)\n",
    "\n",
    "    def get_val_dataset(self):\n",
    "        return Subset(self, self.val_indices)"
   ]
  },
  {
   "cell_type": "code",
   "execution_count": 28,
   "metadata": {},
   "outputs": [],
   "source": [
    "from torch.utils.data import ConcatDataset"
   ]
  },
  {
   "cell_type": "code",
   "execution_count": 39,
   "metadata": {},
   "outputs": [],
   "source": [
    "def load_custom_data_split(data_dir=\"./data\", batch_size=1, split=False, split_ratio=0.8):\n",
    "    transform = transforms.Compose([\n",
    "        transforms.ToTensor(),\n",
    "        transforms.Normalize((0.5), (0.5))\n",
    "    ])\n",
    "\n",
    "    augment_dir = f\"{data_dir}/train_aug\"\n",
    "    test_dir = f\"{data_dir}/test\"\n",
    "    \n",
    "    # Load the augmented training dataset\n",
    "    trainset = EmotionDataset(data_dir=augment_dir, transform=transform)\n",
    "\n",
    "    # Split the augmented dataset into training and validation sets if split is True\n",
    "    if split:\n",
    "        train_size = int(split_ratio * len(trainset))\n",
    "        val_size = len(trainset) - train_size\n",
    "        trainset, valset = random_split(trainset, [train_size, val_size])\n",
    "    else:\n",
    "        valset = None\n",
    "\n",
    "    testset = EmotionDataset(data_dir=test_dir, transform=transform)\n",
    "\n",
    "    return trainset, valset, testset\n"
   ]
  },
  {
   "cell_type": "code",
   "execution_count": 40,
   "metadata": {},
   "outputs": [],
   "source": [
    "def accuracy(outputs, labels):\n",
    "    _, preds = torch.max(outputs, dim=1)\n",
    "    return torch.tensor(torch.sum(preds == labels).item() / len(preds))"
   ]
  },
  {
   "cell_type": "code",
   "execution_count": 41,
   "metadata": {},
   "outputs": [],
   "source": [
    "# Can be used for any Image Classification task\n",
    "\n",
    "class ImageClassificationBase(nn.Module):\n",
    "    def training_step(self, batch):\n",
    "        inputs, labels = batch\n",
    "        outputs = self(inputs)\n",
    "        loss = F.cross_entropy(outputs, labels)\n",
    "        # loss = F.nll_loss(outputs, labels) # Convert for problem at hand\n",
    "        acc = accuracy(outputs, labels)\n",
    "        return {'loss': loss, 'acc': acc.detach()}\n",
    "    \n",
    "    def validation_step(self, batch):\n",
    "        images, labels = batch \n",
    "        out = self(images)                    # Generate predictions\n",
    "        loss = F.cross_entropy(out, labels)   # Calculate loss\n",
    "        acc = accuracy(out, labels)           # Calculate accuracy\n",
    "        return {'val_loss': loss.detach(), 'val_acc': acc.detach()}\n",
    "        \n",
    "    def get_metrics_epoch_end(self, outputs, validation=True):\n",
    "        if validation:\n",
    "            loss_ = 'val_loss'\n",
    "            acc_ = 'val_acc'\n",
    "        else:\n",
    "            loss_ = 'loss'\n",
    "            acc_ = 'acc'\n",
    "\n",
    "        batch_losses = [x[f'{loss_}'] for x in outputs]\n",
    "        epoch_loss = torch.stack(batch_losses).mean()   \n",
    "        batch_accs = [x[f'{acc_}'] for x in outputs]\n",
    "        epoch_acc = torch.stack(batch_accs).mean()      \n",
    "        return {f'{loss_}': epoch_loss.detach().item(), f'{acc_}': epoch_acc.detach().item()}\n",
    "    \n",
    "    def epoch_end(self, epoch, result, num_epochs):\n",
    "        print(f\"Epoch: {epoch+1}/{num_epochs} loss: {result['loss']:.4f}, acc: {result['acc']:.4f}, val_loss: {result['val_loss']:.4f}, val_acc: {result['val_acc']:.4f}\\n\")"
   ]
  },
  {
   "cell_type": "code",
   "execution_count": 42,
   "metadata": {},
   "outputs": [],
   "source": [
    "# Define custom kernels\n",
    "horizontal_kernel = torch.tensor([[[-1, -1, -1],\n",
    "                                   [ 0,  0,  0],\n",
    "                                   [1, 1, 1]]], dtype=torch.float32)\n",
    "\n",
    "vertical_kernel = torch.tensor([[[-1,  0, 1],\n",
    "                                 [-1,  0, 1],\n",
    "                                 [-1,  0, 1]]], dtype=torch.float32)\n",
    "\n",
    "diagonal_kernel1 = torch.tensor([[[ 2, -1, -1],\n",
    "                                  [-1,  2, -1],\n",
    "                                  [-1, -1,  2]]], dtype=torch.float32)\n",
    "\n",
    "diagonal_kernel2 = torch.tensor([[[-1, -1,  2],\n",
    "                                  [-1,  2, -1],\n",
    "                                  [ 2, -1, -1]]], dtype=torch.float32)"
   ]
  },
  {
   "cell_type": "code",
   "execution_count": 75,
   "metadata": {},
   "outputs": [],
   "source": [
    "class EmotionRecognition(nn.Module):\n",
    "    def __init__(self):\n",
    "        super().__init__()\n",
    "        self.network = nn.Sequential(\n",
    "            nn.Conv2d(1, 128, kernel_size=(3, 3), padding=1),\n",
    "            nn.ReLU(),\n",
    "            nn.Conv2d(128, 128, kernel_size=(3, 3), padding=1),\n",
    "            nn.ReLU(),\n",
    "            nn.BatchNorm2d(128),\n",
    "            nn.MaxPool2d(2, 2),  # output: 128 x 24 x 24\n",
    "\n",
    "            nn.Conv2d(128, 64, kernel_size=(3, 3), padding=1),\n",
    "            nn.ReLU(),\n",
    "            nn.Conv2d(64, 64, kernel_size=(3, 3), padding=1),\n",
    "            nn.ReLU(),\n",
    "            nn.BatchNorm2d(64),\n",
    "            nn.MaxPool2d(2, 2),  # output: 64 x 12 x 12\n",
    "\n",
    "            nn.Conv2d(64, 32, kernel_size=(3, 3), padding=1),\n",
    "            nn.ReLU(),\n",
    "            nn.Conv2d(32, 32, kernel_size=(3, 3), padding=1),\n",
    "            nn.ReLU(),\n",
    "            nn.BatchNorm2d(32),\n",
    "            nn.MaxPool2d(2, 2),  # output: 32 x 6 x 6\n",
    "\n",
    "            nn.Flatten(),\n",
    "            nn.Linear(32 * 6 * 6, 128),\n",
    "            nn.ReLU(),\n",
    "            nn.Linear(128, 64),\n",
    "            nn.ReLU(),\n",
    "            nn.Linear(64, 7)\n",
    "        )\n",
    "\n",
    "        self._initialize_weights()\n",
    "\n",
    "    def _initialize_weights(self):\n",
    "        with torch.no_grad():\n",
    "            # Initialize the first convolutional layer with custom kernels\n",
    "            self.network[0].weight[0] = horizontal_kernel\n",
    "            self.network[0].weight[1] = vertical_kernel\n",
    "            self.network[0].weight[2] = diagonal_kernel1\n",
    "            self.network[0].weight[3] = diagonal_kernel2\n",
    "            # Initialize remaining filters randomly\n",
    "            nn.init.xavier_normal_(self.network[0].weight[4:])\n",
    "            nn.init.constant_(self.network[0].bias, 0)\n",
    "\n",
    "    def forward(self, xb):\n",
    "        return self.network(xb)\n",
    "\n",
    "    def __repr__(self):\n",
    "        return f\"{self.network}\"\n",
    "\n",
    "    def __str__(self):\n",
    "        summary(self.network, (1, 48, 48))\n",
    "\n",
    "    def training_step(self, batch):\n",
    "        images, labels = batch\n",
    "        out = self(images)                  # Generate predictions\n",
    "        loss = F.cross_entropy(out, labels) # Calculate loss\n",
    "        return {'loss': loss}\n",
    "\n",
    "    def validation_step(self, batch):\n",
    "        images, labels = batch\n",
    "        out = self(images)                  # Generate predictions\n",
    "        loss = F.cross_entropy(out, labels) # Calculate loss\n",
    "        acc = accuracy(out, labels)         # Calculate accuracy\n",
    "        return {'val_loss': loss.detach(), 'val_acc': acc}\n",
    "\n",
    "    def get_metrics_epoch_end(self, outputs, validation=False):\n",
    "        if validation:\n",
    "            batch_losses = [x['val_loss'] for x in outputs]\n",
    "            epoch_loss = torch.stack(batch_losses).mean()   # Combine losses\n",
    "            batch_accs = [x['val_acc'] for x in outputs]\n",
    "            epoch_acc = torch.stack(batch_accs).mean()      # Combine accuracies\n",
    "            return {'val_loss': epoch_loss.item(), 'val_acc': epoch_acc.item()}\n",
    "        else:\n",
    "            batch_losses = [x['loss'] for x in outputs]\n",
    "            epoch_loss = torch.stack(batch_losses).mean()   # Combine losses\n",
    "            return {'train_loss': epoch_loss.item()}\n",
    "\n",
    "    def epoch_end(self, epoch, result, epochs):\n",
    "        print(f\"Epoch [{epoch+1}/{epochs}], train_loss: {result['train_loss']:.4f}, val_loss: {result['val_loss']:.4f}, val_acc: {result['val_acc']:.4f}\")\n"
   ]
  },
  {
   "cell_type": "code",
   "execution_count": 76,
   "metadata": {},
   "outputs": [],
   "source": [
    "def accuracy(outputs, labels):\n",
    "    _, preds = torch.max(outputs, dim=1)\n",
    "    return torch.tensor(torch.sum(preds == labels).item() / len(preds))\n",
    "\n",
    "\n",
    "@torch.no_grad()\n",
    "def evaluate(model, val_loader):\n",
    "    model.eval()\n",
    "    outputs = [model.validation_step(batch) for batch in val_loader]\n",
    "    return model.get_metrics_epoch_end(outputs=outputs, validation=True)\n",
    "\n",
    "\n",
    "def get_lr(optimizer):\n",
    "    for param_group in optimizer.param_groups:\n",
    "        return param_group['lr']\n"
   ]
  },
  {
   "cell_type": "code",
   "execution_count": 77,
   "metadata": {},
   "outputs": [],
   "source": [
    "def fit_model(model, epochs, lr, train_loader, val_loader, weight_decay=0, grad_clip=None, opt_func=torch.optim.SGD,model_name = \"test_model\"):\n",
    "    \n",
    "    BEST_VAL_SCORE = 0.0 # for keeping track of best model score\n",
    "    history = []\n",
    "\n",
    "    optimizer = opt_func(model.parameters(), lr, weight_decay=weight_decay,momentum=0.9)\n",
    "\n",
    "    for epoch in range(epochs):\n",
    "        train_history = []\n",
    "\n",
    "        # Training Phase \n",
    "        model.train()\n",
    "        for batch in tqdm(train_loader, ascii=True, desc=f'Epoch: {epoch+1}/{epochs}'):\n",
    "            info = model.training_step(batch)\n",
    "            loss = info['loss']\n",
    "            # contains batch loss and acc for training phase\n",
    "            train_history.append(info)\n",
    "            loss.backward()\n",
    "\n",
    "            # Gradient clipping\n",
    "            if grad_clip:\n",
    "                nn.utils.clip_grad_value_(model.parameters(), grad_clip)\n",
    "\n",
    "            optimizer.step()\n",
    "            optimizer.zero_grad()\n",
    "\n",
    "        train_result = model.get_metrics_epoch_end(train_history, validation=False)\n",
    "        val_result = evaluate(model, val_loader)\n",
    "        result = {**train_result, **val_result}\n",
    "        model.epoch_end(epoch, result, epochs)\n",
    "\n",
    "        # Save the best model\n",
    "        if result['val_acc'] > BEST_VAL_SCORE:\n",
    "            BEST_VAL_SCORE = result['val_acc']\n",
    "            save_name = f\"{model_name}_e{epoch+1}_sc-{round(result['val_acc'], 4)}.pth\"\n",
    "            torch.save(model.state_dict(), save_name)\n",
    "\n",
    "        history.append(result)\n",
    "    return history\n",
    "\n",
    "\n",
    "@torch.no_grad()\n",
    "def generate_prediction(model, data, extract=False):\n",
    "    test_dl = DataLoader(data, batch_size=1, shuffle=False)\n",
    "\n",
    "    model.eval()\n",
    "    outputs = [model.validation_step(batch) for batch in test_dl]\n",
    "    metrics = model.get_metrics_epoch_end(outputs=outputs, validation=True)\n",
    "    \n",
    "    if not extract:\n",
    "        print(f\"Test Scores:\\n Loss: {round(metrics['val_loss'], 3)}, Accuracy: {round(metrics['val_acc'], 3)}\")\n",
    "    else:\n",
    "        return metrics\n",
    "\n",
    "\n",
    "def end_to_end(trainset, valset,testset, parameters, extract=False,tn = \"test_model\"):\n",
    "    torch.cuda.empty_cache()\n",
    "\n",
    "    BATCH_SIZE = parameters[\"batch_size\"]\n",
    "    epochs = parameters[\"epochs\"]\n",
    "    lr = parameters[\"lr\"]\n",
    "    weight_decay = parameters[\"weight_decay\"]\n",
    "    grad_clip = parameters[\"grad_clip\"]\n",
    "    opt_func = parameters[\"opt_func\"]\n",
    "\n",
    "    train_dl = DataLoader(trainset, BATCH_SIZE, shuffle=True)\n",
    "    valid_dl = DataLoader(valset, BATCH_SIZE, shuffle=True)\n",
    "    \n",
    "    model = EmotionRecognition()\n",
    "\n",
    "    history = fit_model(\n",
    "                model, \n",
    "                epochs, \n",
    "                lr, \n",
    "                train_dl, \n",
    "                valid_dl,\n",
    "                weight_decay, \n",
    "                grad_clip, \n",
    "                opt_func,\n",
    "                model_name=tn\n",
    "            )\n",
    "\n",
    "    torch.cuda.empty_cache()\n",
    "\n",
    "    print(\"Generating predictions on the Test set\")\n",
    "    pred = generate_prediction(model, testset, extract=extract)\n",
    "    print(\"Test set prediction accuracy: \", pred['val_acc'])\n",
    "    return history, pred"
   ]
  },
  {
   "cell_type": "code",
   "execution_count": 78,
   "metadata": {},
   "outputs": [],
   "source": [
    "training_parameters = {\n",
    "    \"epochs\": 10,\n",
    "    \"lr\": 1e-3,\n",
    "    \"weight_decay\": 0.001,\n",
    "    \"grad_clip\": 0.5e-2,\n",
    "    \"opt_func\": torch.optim.SGD,\n",
    "    \"batch_size\": 64\n",
    "\n",
    "}"
   ]
  },
  {
   "cell_type": "code",
   "execution_count": 79,
   "metadata": {},
   "outputs": [],
   "source": [
    "trainset_split, valset_split, testset_split = load_custom_data_split(data_dir=\"C:/Users/joey5/OneDrive/KU/Fourth Year/AppML/Final_Project\", split=True, split_ratio=0.8)"
   ]
  },
  {
   "cell_type": "code",
   "execution_count": 80,
   "metadata": {},
   "outputs": [
    {
     "name": "stdout",
     "output_type": "stream",
     "text": [
      "length of trainset:  26455\n",
      "length of valset:  6614\n",
      "combined length:  33069\n"
     ]
    }
   ],
   "source": [
    "print(\"length of trainset: \", len(trainset_split))\n",
    "print(\"length of valset: \", len(valset_split))\n",
    "print('combined length: ', len(trainset_split) + len(valset_split))"
   ]
  },
  {
   "cell_type": "code",
   "execution_count": 81,
   "metadata": {},
   "outputs": [
    {
     "name": "stderr",
     "output_type": "stream",
     "text": [
      "Epoch: 1/10: 100%|##########| 414/414 [09:45<00:00,  1.41s/it]\n",
      "Epoch: 2/10:   0%|          | 0/414 [00:00<?, ?it/s]"
     ]
    },
    {
     "name": "stdout",
     "output_type": "stream",
     "text": [
      "Epoch [1/10], train_loss: 1.6793, val_loss: 1.4820, val_acc: 0.4165\n"
     ]
    },
    {
     "name": "stderr",
     "output_type": "stream",
     "text": [
      "Epoch: 2/10: 100%|##########| 414/414 [06:35<00:00,  1.05it/s]\n",
      "Epoch: 3/10:   0%|          | 0/414 [00:00<?, ?it/s]"
     ]
    },
    {
     "name": "stdout",
     "output_type": "stream",
     "text": [
      "Epoch [2/10], train_loss: 1.3719, val_loss: 1.2907, val_acc: 0.5057\n"
     ]
    },
    {
     "name": "stderr",
     "output_type": "stream",
     "text": [
      "Epoch: 3/10: 100%|##########| 414/414 [06:11<00:00,  1.12it/s]\n",
      "Epoch: 4/10:   0%|          | 0/414 [00:00<?, ?it/s]"
     ]
    },
    {
     "name": "stdout",
     "output_type": "stream",
     "text": [
      "Epoch [3/10], train_loss: 1.2221, val_loss: 1.1968, val_acc: 0.5381\n"
     ]
    },
    {
     "name": "stderr",
     "output_type": "stream",
     "text": [
      "Epoch: 4/10: 100%|##########| 414/414 [06:05<00:00,  1.13it/s]\n",
      "Epoch: 5/10:   0%|          | 0/414 [00:00<?, ?it/s]"
     ]
    },
    {
     "name": "stdout",
     "output_type": "stream",
     "text": [
      "Epoch [4/10], train_loss: 1.1342, val_loss: 1.1504, val_acc: 0.5557\n"
     ]
    },
    {
     "name": "stderr",
     "output_type": "stream",
     "text": [
      "Epoch: 5/10: 100%|##########| 414/414 [06:26<00:00,  1.07it/s]\n",
      "Epoch: 6/10:   0%|          | 0/414 [00:00<?, ?it/s]"
     ]
    },
    {
     "name": "stdout",
     "output_type": "stream",
     "text": [
      "Epoch [5/10], train_loss: 1.0630, val_loss: 1.1257, val_acc: 0.5662\n"
     ]
    },
    {
     "name": "stderr",
     "output_type": "stream",
     "text": [
      "Epoch: 6/10: 100%|##########| 414/414 [06:11<00:00,  1.11it/s]\n",
      "Epoch: 7/10:   0%|          | 0/414 [00:00<?, ?it/s]"
     ]
    },
    {
     "name": "stdout",
     "output_type": "stream",
     "text": [
      "Epoch [6/10], train_loss: 1.0045, val_loss: 1.1148, val_acc: 0.5767\n"
     ]
    },
    {
     "name": "stderr",
     "output_type": "stream",
     "text": [
      "Epoch: 7/10: 100%|##########| 414/414 [05:45<00:00,  1.20it/s]\n",
      "Epoch: 8/10:   0%|          | 0/414 [00:00<?, ?it/s]"
     ]
    },
    {
     "name": "stdout",
     "output_type": "stream",
     "text": [
      "Epoch [7/10], train_loss: 0.9460, val_loss: 1.1026, val_acc: 0.5841\n"
     ]
    },
    {
     "name": "stderr",
     "output_type": "stream",
     "text": [
      "Epoch: 8/10: 100%|##########| 414/414 [06:02<00:00,  1.14it/s]\n",
      "Epoch: 9/10:   0%|          | 0/414 [00:00<?, ?it/s]"
     ]
    },
    {
     "name": "stdout",
     "output_type": "stream",
     "text": [
      "Epoch [8/10], train_loss: 0.8901, val_loss: 1.1088, val_acc: 0.5790\n"
     ]
    },
    {
     "name": "stderr",
     "output_type": "stream",
     "text": [
      "Epoch: 9/10: 100%|##########| 414/414 [05:55<00:00,  1.17it/s]\n",
      "Epoch: 10/10:   0%|          | 0/414 [00:00<?, ?it/s]"
     ]
    },
    {
     "name": "stdout",
     "output_type": "stream",
     "text": [
      "Epoch [9/10], train_loss: 0.8347, val_loss: 1.1177, val_acc: 0.5857\n"
     ]
    },
    {
     "name": "stderr",
     "output_type": "stream",
     "text": [
      "Epoch: 10/10: 100%|##########| 414/414 [06:15<00:00,  1.10it/s]\n"
     ]
    },
    {
     "name": "stdout",
     "output_type": "stream",
     "text": [
      "Epoch [10/10], train_loss: 0.7804, val_loss: 1.1378, val_acc: 0.5834\n",
      "Generating predictions on the Test set\n",
      "Test set prediction accuracy:  0.5231262445449829\n"
     ]
    }
   ],
   "source": [
    "# train the model\n",
    "history,pred = end_to_end(trainset_split,valset_split, testset_split, training_parameters, extract=True, tn=\"fm_6\")"
   ]
  },
  {
   "cell_type": "code",
   "execution_count": 32,
   "metadata": {},
   "outputs": [],
   "source": [
    "training_parameters_weight_decay = {\n",
    "    \"epochs\": 10,\n",
    "    \"lr\": 2e-3,\n",
    "    \"weight_decay\": 0.1,\n",
    "    \"grad_clip\": 0.5e-2,\n",
    "    \"opt_func\": torch.optim.SGD,\n",
    "    \"batch_size\": 64\n",
    "\n",
    "}"
   ]
  },
  {
   "cell_type": "code",
   "execution_count": 86,
   "metadata": {},
   "outputs": [],
   "source": [
    "# history_wd,pred_wd = end_to_end(trainset_split,valset_split, testset_split, training_parameters, extract=True, tn=\"fm_3.5_wd\")"
   ]
  },
  {
   "cell_type": "code",
   "execution_count": 83,
   "metadata": {},
   "outputs": [
    {
     "data": {
      "text/plain": [
       "<All keys matched successfully>"
      ]
     },
     "execution_count": 83,
     "metadata": {},
     "output_type": "execute_result"
    }
   ],
   "source": [
    "# Load the model\n",
    "model = EmotionRecognition()\n",
    "model.load_state_dict(torch.load(\"fm_6_e9_sc-0.5857.pth\"))\n",
    "\n",
    "# model_wd = EmotionRecognition()\n",
    "# model_wd.load_state_dict(torch.load(\"fm_6_wd_e7_sc-0.5512.pth\"))\n",
    "# \n"
   ]
  },
  {
   "cell_type": "code",
   "execution_count": 106,
   "metadata": {},
   "outputs": [],
   "source": [
    "\n",
    "def plot_confusion_matrix(cm, class_names,name = \"Confusion Matrix\"):\n",
    "    figure, ax = plt.subplots(figsize=(5, 5))\n",
    "    cm_norm = cm / np.sum(cm, axis=1, keepdims=True)\n",
    "    ax.imshow(cm_norm, interpolation='nearest', cmap=plt.get_cmap('Blues'), vmin=0, vmax=1)\n",
    "    accuracy_ = np.trace(cm) / float(np.sum(cm))\n",
    "    ax.set_title(f'Accuracy: {100*accuracy_:.2f}%', fontsize=14, fontweight='bold')\n",
    "    tick_marks = np.arange(len(class_names))\n",
    "    ax.set_xticks(tick_marks)\n",
    "    ax.set_xticklabels(class_names, rotation=45)\n",
    "    ax.set_yticks(tick_marks)\n",
    "    ax.set_yticklabels(class_names)\n",
    "\n",
    "    for i in range(len(class_names)):\n",
    "        for j in range(len(class_names)):\n",
    "            ax.text(j, i, f'{cm_norm[i, j]:.2f}', ha='center', va='center', color='k')\n",
    "\n",
    "    figure.tight_layout()\n",
    "    plt.xlabel('Predicted', fontweight='bold', fontsize=14)\n",
    "    plt.ylabel('True', fontweight='bold', fontsize=14)\n",
    "    plt.savefig(name+\".png\",bbox_inches='tight')\n",
    "    plt.show()\n",
    "    \n",
    "\n",
    "def generate_confusion_matrix(model, data,name = \"Confusion Matrix\") -> None:\n",
    "    '''Generate confusion matrix on the test set'''\n",
    "    # load test dataset\n",
    "    test_dl = DataLoader(data, batch_size=1, shuffle=False)\n",
    "\n",
    "    # generate prediction using the validation step method defined in Base class\n",
    "    with torch.no_grad():\n",
    "        model.eval()\n",
    "        all_preds = []\n",
    "        all_labels = []\n",
    "        for batch in test_dl:\n",
    "            images, labels = batch\n",
    "            preds = model(images)\n",
    "            all_preds.append(preds)\n",
    "            all_labels.append(labels)\n",
    "\n",
    "        all_preds = torch.cat(all_preds, dim=0)\n",
    "        all_labels = torch.cat(all_labels, dim=0)\n",
    "        cm = confusion_matrix(all_labels.cpu().numpy(), torch.argmax(all_preds, dim=1).cpu().numpy())\n",
    "        plot_confusion_matrix(cm, class_names=['Angry', 'Disgust', 'Fear', 'Happy', 'Neutral','Sad', 'Surprise'],name=name)\n",
    "    \n",
    "    \n",
    "\n"
   ]
  },
  {
   "cell_type": "code",
   "execution_count": 107,
   "metadata": {},
   "outputs": [
    {
     "data": {
      "image/png": "[encoded data removed]",
      "text/plain": [
       "<Figure size 360x360 with 1 Axes>"
      ]
     },
     "metadata": {
      "needs_background": "light"
     },
     "output_type": "display_data"
    }
   ],
   "source": [
    "generate_confusion_matrix(model, testset_split,name = \"Confusion_Matrix_Aug_Disgusted\")\n",
    "# generate_confusion_matrix(model_wd, testset)"
   ]
  },
  {
   "cell_type": "code",
   "execution_count": 84,
   "metadata": {},
   "outputs": [],
   "source": [
    "# Generate the loss and accuracy plots\n",
    "def plot_loss(history):\n",
    "    losses = [x['train_loss'] for x in history]\n",
    "    val_losses = [x['val_loss'] for x in history]\n",
    "    accs = [x['val_acc'] for x in history]\n",
    "    plt.figure(figsize=(10, 5))\n",
    "    plt.subplot(1, 2, 1)\n",
    "    plt.plot(losses, '-x', label='train_loss')\n",
    "    plt.plot(val_losses, '-o', label='val_loss')\n",
    "    plt.xlabel('epoch')\n",
    "    plt.ylabel('loss')\n",
    "    plt.legend()\n",
    "    plt.title('Loss vs. epochs')\n",
    "\n",
    "    plt.subplot(1, 2, 2)\n",
    "    plt.plot(accs, '-x', label='val_acc')\n",
    "    plt.xlabel('epoch')\n",
    "    plt.ylabel('accuracy')\n",
    "    plt.legend()\n",
    "    plt.title('Accuracy vs. epochs')\n",
    "    plt.show()\n",
    "    return losses, val_losses, accs"
   ]
  },
  {
   "cell_type": "code",
   "execution_count": 93,
   "metadata": {},
   "outputs": [
    {
     "data": {
      "image/png": "[encoded data removed]",
      "text/plain": [
       "<Figure size 720x360 with 2 Axes>"
      ]
     },
     "metadata": {
      "needs_background": "light"
     },
     "output_type": "display_data"
    }
   ],
   "source": [
    "loss_wd,val_loss_wd, val_accs_wd =plot_loss(history)"
   ]
  },
  {
   "cell_type": "code",
   "execution_count": 44,
   "metadata": {},
   "outputs": [],
   "source": [
    "#Export the loss and accuracy values to separate csv files\n",
    "df = pd.DataFrame(list(zip(loss_wd,val_loss_wd,val_accs_wd)), columns =['loss', 'val_loss','val_acc'])\n",
    "df.to_csv('loss_aug.csv', index=False)\n",
    "\n"
   ]
  },
  {
   "cell_type": "code",
   "execution_count": null,
   "metadata": {},
   "outputs": [
    {
     "data": {
      "image/png": "[encoded data removed]",
      "text/plain": [
       "<Figure size 432x288 with 1 Axes>"
      ]
     },
     "metadata": {
      "needs_background": "light"
     },
     "output_type": "display_data"
    }
   ],
   "source": [
    "# print the distribution of the classes in  the test set\n",
    "\n",
    "# def class_distribution(data) -> None:\n",
    "#     '''Print class distribution of the dataset'''\n",
    "#     labels = [label for _, label in data]\n",
    "#     sns.countplot(labels)\n",
    "#     plt.show()\n",
    "\n",
    "# class_distribution(testset)"
   ]
  },
  {
   "cell_type": "code",
   "execution_count": 108,
   "metadata": {},
   "outputs": [
    {
     "name": "stdout",
     "output_type": "stream",
     "text": [
      "----------------------------------------------------------------\n",
      "        Layer (type)               Output Shape         Param #\n",
      "================================================================\n",
      "            Conv2d-1          [-1, 128, 48, 48]           1,280\n",
      "              ReLU-2          [-1, 128, 48, 48]               0\n",
      "            Conv2d-3          [-1, 128, 48, 48]         147,584\n",
      "              ReLU-4          [-1, 128, 48, 48]               0\n",
      "       BatchNorm2d-5          [-1, 128, 48, 48]             256\n",
      "         MaxPool2d-6          [-1, 128, 24, 24]               0\n",
      "            Conv2d-7           [-1, 64, 24, 24]          73,792\n",
      "              ReLU-8           [-1, 64, 24, 24]               0\n",
      "            Conv2d-9           [-1, 64, 24, 24]          36,928\n",
      "             ReLU-10           [-1, 64, 24, 24]               0\n",
      "      BatchNorm2d-11           [-1, 64, 24, 24]             128\n",
      "        MaxPool2d-12           [-1, 64, 12, 12]               0\n",
      "           Conv2d-13           [-1, 32, 12, 12]          18,464\n",
      "             ReLU-14           [-1, 32, 12, 12]               0\n",
      "           Conv2d-15           [-1, 32, 12, 12]           9,248\n",
      "             ReLU-16           [-1, 32, 12, 12]               0\n",
      "      BatchNorm2d-17           [-1, 32, 12, 12]              64\n",
      "        MaxPool2d-18             [-1, 32, 6, 6]               0\n",
      "          Flatten-19                 [-1, 1152]               0\n",
      "           Linear-20                  [-1, 128]         147,584\n",
      "             ReLU-21                  [-1, 128]               0\n",
      "           Linear-22                   [-1, 64]           8,256\n",
      "             ReLU-23                   [-1, 64]               0\n",
      "           Linear-24                    [-1, 7]             455\n",
      "================================================================\n",
      "Total params: 444,039\n",
      "Trainable params: 444,039\n",
      "Non-trainable params: 0\n",
      "----------------------------------------------------------------\n",
      "Input size (MB): 0.01\n",
      "Forward/backward pass size (MB): 13.49\n",
      "Params size (MB): 1.69\n",
      "Estimated Total Size (MB): 15.19\n",
      "----------------------------------------------------------------\n"
     ]
    },
    {
     "ename": "TypeError",
     "evalue": "__str__ returned non-string (type NoneType)",
     "output_type": "error",
     "traceback": [
      "\u001b[1;31m---------------------------------------------------------------------------\u001b[0m",
      "\u001b[1;31mTypeError\u001b[0m                                 Traceback (most recent call last)",
      "\u001b[1;32m<ipython-input-108-a87813ffe34d>\u001b[0m in \u001b[0;36m<module>\u001b[1;34m\u001b[0m\n\u001b[1;32m----> 1\u001b[1;33m \u001b[0mprint\u001b[0m\u001b[1;33m(\u001b[0m\u001b[0mmodel\u001b[0m\u001b[1;33m)\u001b[0m\u001b[1;33m\u001b[0m\u001b[1;33m\u001b[0m\u001b[0m\n\u001b[0m",
      "\u001b[1;31mTypeError\u001b[0m: __str__ returned non-string (type NoneType)"
     ]
    }
   ],
   "source": [
    "print(model)"
   ]
  },
  {
   "cell_type": "code",
   "execution_count": null,
   "metadata": {},
   "outputs": [],
   "source": []
  }
 ],
 "metadata": {
  "kernelspec": {
   "display_name": "base",
   "language": "python",
   "name": "python3"
  },
  "language_info": {
   "codemirror_mode": {
    "name": "ipython",
    "version": 3
   },
   "file_extension": ".py",
   "mimetype": "text/x-python",
   "name": "python",
   "nbconvert_exporter": "python",
   "pygments_lexer": "ipython3",
   "version": "3.8.3"
  }
 },
 "nbformat": 4,
 "nbformat_minor": 2
}
