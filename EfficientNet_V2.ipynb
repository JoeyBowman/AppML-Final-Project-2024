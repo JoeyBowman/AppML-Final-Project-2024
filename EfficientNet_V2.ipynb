{
  "nbformat": 4,
  "nbformat_minor": 0,
  "metadata": {
    "colab": {
      "provenance": [],
      "gpuType": "T4",
      "machine_shape": "hm",
      "mount_file_id": "https://github.com/Emilie-Jessen/AppML-Final-Project-2024/blob/main/EfficientNet_V2.ipynb",
      "authorship_tag": "ABX9TyNKAylI1jMUG15IPqRzdEjI",
      "include_colab_link": true
    },
    "kernelspec": {
      "name": "python3",
      "display_name": "Python 3"
    },
    "language_info": {
      "name": "python"
    },
    "accelerator": "GPU"
  },
  "cells": [
    {
      "cell_type": "markdown",
      "metadata": {
        "id": "view-in-github",
        "colab_type": "text"
      },
      "source": [
        "<a href=\"https://colab.research.google.com/github/Emilie-Jessen/AppML-Final-Project-2024/blob/main/EfficientNet_V2.ipynb\" target=\"_parent\"><img src=\"https://colab.research.google.com/assets/colab-badge.svg\" alt=\"Open In Colab\"/></a>"
      ]
    },
    {
      "cell_type": "code",
      "execution_count": 1,
      "metadata": {
        "id": "HZXXwwLSaZHq"
      },
      "outputs": [],
      "source": [
        "import numpy as np\n",
        "import matplotlib.pyplot as plt\n",
        "import multiprocessing\n",
        "import tensorflow as tf\n",
        "import tensorflow_hub as hub"
      ]
    },
    {
      "cell_type": "code",
      "source": [
        "from tensorflow.keras.applications import EfficientNetV2L, EfficientNetV2B3\n",
        "from tensorflow.keras.preprocessing import image_dataset_from_directory\n",
        "from tensorflow.image import grayscale_to_rgb\n",
        "from tensorflow.keras.preprocessing.image import smart_resize\n",
        "from tensorflow.keras.layers import Lambda, Dense, InputLayer, Rescaling, Dropout, Flatten\n",
        "from tensorflow.keras import Sequential"
      ],
      "metadata": {
        "id": "ugK3WWXcd7RI"
      },
      "execution_count": 2,
      "outputs": []
    },
    {
      "cell_type": "code",
      "source": [
        "print(\"TF version:\", tf.__version__)\n",
        "print(\"Hub version:\", hub.__version__)\n",
        "print(\"GPU is\", \"available\" if tf.config.list_physical_devices('GPU') else \"NOT AVAILABLE\")"
      ],
      "metadata": {
        "colab": {
          "base_uri": "https://localhost:8080/"
        },
        "id": "W-eX6xMxab6V",
        "outputId": "9de1f790-42db-427b-a7aa-2f2500ed7108"
      },
      "execution_count": 3,
      "outputs": [
        {
          "output_type": "stream",
          "name": "stdout",
          "text": [
            "TF version: 2.15.0\n",
            "Hub version: 0.16.1\n",
            "GPU is NOT AVAILABLE\n"
          ]
        }
      ]
    },
    {
      "cell_type": "code",
      "source": [
        "device_name = tf.test.gpu_device_name()\n",
        "if device_name != '/device:GPU:0':\n",
        "  raise SystemError('GPU device not found')\n",
        "print('Found GPU at: {}'.format(device_name))"
      ],
      "metadata": {
        "colab": {
          "base_uri": "https://localhost:8080/",
          "height": 190
        },
        "id": "qLY9mXFucWL9",
        "outputId": "6b4fb8b1-914e-42fb-c9d5-e5a97dfe29b2"
      },
      "execution_count": 4,
      "outputs": [
        {
          "output_type": "error",
          "ename": "SystemError",
          "evalue": "GPU device not found",
          "traceback": [
            "\u001b[0;31m---------------------------------------------------------------------------\u001b[0m",
            "\u001b[0;31mSystemError\u001b[0m                               Traceback (most recent call last)",
            "\u001b[0;32m<ipython-input-4-ce08ddae0a7d>\u001b[0m in \u001b[0;36m<cell line: 2>\u001b[0;34m()\u001b[0m\n\u001b[1;32m      1\u001b[0m \u001b[0mdevice_name\u001b[0m \u001b[0;34m=\u001b[0m \u001b[0mtf\u001b[0m\u001b[0;34m.\u001b[0m\u001b[0mtest\u001b[0m\u001b[0;34m.\u001b[0m\u001b[0mgpu_device_name\u001b[0m\u001b[0;34m(\u001b[0m\u001b[0;34m)\u001b[0m\u001b[0;34m\u001b[0m\u001b[0;34m\u001b[0m\u001b[0m\n\u001b[1;32m      2\u001b[0m \u001b[0;32mif\u001b[0m \u001b[0mdevice_name\u001b[0m \u001b[0;34m!=\u001b[0m \u001b[0;34m'/device:GPU:0'\u001b[0m\u001b[0;34m:\u001b[0m\u001b[0;34m\u001b[0m\u001b[0;34m\u001b[0m\u001b[0m\n\u001b[0;32m----> 3\u001b[0;31m   \u001b[0;32mraise\u001b[0m \u001b[0mSystemError\u001b[0m\u001b[0;34m(\u001b[0m\u001b[0;34m'GPU device not found'\u001b[0m\u001b[0;34m)\u001b[0m\u001b[0;34m\u001b[0m\u001b[0;34m\u001b[0m\u001b[0m\n\u001b[0m\u001b[1;32m      4\u001b[0m \u001b[0mprint\u001b[0m\u001b[0;34m(\u001b[0m\u001b[0;34m'Found GPU at: {}'\u001b[0m\u001b[0;34m.\u001b[0m\u001b[0mformat\u001b[0m\u001b[0;34m(\u001b[0m\u001b[0mdevice_name\u001b[0m\u001b[0;34m)\u001b[0m\u001b[0;34m)\u001b[0m\u001b[0;34m\u001b[0m\u001b[0;34m\u001b[0m\u001b[0m\n",
            "\u001b[0;31mSystemError\u001b[0m: GPU device not found"
          ]
        }
      ]
    },
    {
      "cell_type": "code",
      "source": [
        "# The pictures are 48x48 pixels, but the model requires 128x128 pixels\n",
        "\n",
        "input_pixels = 48\n",
        "model_pixels = 128\n",
        "IMAGE_SIZE = (input_pixels, input_pixels)\n",
        "RE_SIZE = (model_pixels, model_pixels)\n",
        "BATCH_SIZE = 16"
      ],
      "metadata": {
        "id": "eKxN94U-adZV"
      },
      "execution_count": null,
      "outputs": []
    },
    {
      "cell_type": "code",
      "source": [
        "# Load the images from the test folder and create a dataset\n",
        "\n",
        "def build_trainset(subset):\n",
        "    return image_dataset_from_directory(\n",
        "                        f\"drive/MyDrive/archive/train\",\n",
        "                        label_mode=\"categorical\",\n",
        "                        color_mode=\"grayscale\",\n",
        "                        image_size=IMAGE_SIZE,\n",
        "                        batch_size=1,\n",
        "                        seed=42,\n",
        "                        validation_split=0.2,\n",
        "                        subset=subset)"
      ],
      "metadata": {
        "id": "wBGW9HyjafPx"
      },
      "execution_count": null,
      "outputs": []
    },
    {
      "cell_type": "code",
      "source": [
        "# Load the training and validation datasets\n",
        "train_ds = build_trainset(\"training\")\n",
        "val_ds = build_trainset(\"validation\")\n",
        "\n",
        "# Get the names of the labels\n",
        "class_names = tuple(train_ds.class_names)\n",
        "\n",
        "# Print one image\n",
        "for image, label in train_ds.take(1):\n",
        "    plt.imshow(image[0], cmap='gray')\n",
        "    plt.title(f\"Label: {label[0]}\")\n",
        "    plt.show()\n",
        "\n",
        "# Print the shape of the images\n",
        "for image, label in train_ds.take(1):\n",
        "    print(image.shape)"
      ],
      "metadata": {
        "id": "o0ILlUI84BO3"
      },
      "execution_count": null,
      "outputs": []
    },
    {
      "cell_type": "code",
      "source": [
        "print(class_names)"
      ],
      "metadata": {
        "id": "ONmUIDsG6hsH"
      },
      "execution_count": null,
      "outputs": []
    },
    {
      "cell_type": "code",
      "source": [
        "# Preprocessing of the data\n",
        "\n",
        "# The pictures are 48x48 pixels, but the model requires 128x128 pixels\n",
        "resize_layer = Lambda(lambda x: smart_resize(x, size=RE_SIZE))\n",
        "\n",
        "# The model requires 3 channels, so we need to convert the grayscale image to RGB\n",
        "grayscale_to_rgb_layer = Lambda(lambda x: grayscale_to_rgb(x))\n",
        "\n",
        "# Create preprocessing model\n",
        "preprocessing_model = Sequential()\n",
        "preprocessing_model.add(resize_layer)\n",
        "preprocessing_model.add(grayscale_to_rgb_layer)"
      ],
      "metadata": {
        "id": "iHotpfiLoMSl"
      },
      "execution_count": null,
      "outputs": []
    },
    {
      "cell_type": "code",
      "source": [
        "# Apply the preprocessing model to the training and validation datasets\n",
        "train_ds = train_ds.map(lambda image, label: (preprocessing_model(image), label))\n",
        "val_ds = val_ds.map(lambda image, label: (preprocessing_model(image), label))"
      ],
      "metadata": {
        "id": "BIPiaV8uajX0"
      },
      "execution_count": null,
      "outputs": []
    },
    {
      "cell_type": "code",
      "source": [
        "# Print the same image after preprocessing\n",
        "for image, label in train_ds.take(1):\n",
        "    plt.imshow(image[0]*1/255)\n",
        "    plt.title(f\"Label: {label[0]}\")\n",
        "    plt.show()\n",
        "\n",
        "# Print the shape of the images after preprocessing\n",
        "for image, label in train_ds.take(1):\n",
        "    print(image.shape)"
      ],
      "metadata": {
        "id": "LXfwH-hR4r4y"
      },
      "execution_count": null,
      "outputs": []
    },
    {
      "cell_type": "code",
      "source": [
        "# Get class names and the size of the data sets\n",
        "train_size = train_ds.cardinality().numpy()\n",
        "val_size = val_ds.cardinality().numpy()\n",
        "\n",
        "train_ds = train_ds.unbatch().batch(BATCH_SIZE)\n",
        "val_ds = val_ds.unbatch().batch(BATCH_SIZE)\n",
        "\n",
        "# Repeat training data set to ensure enough data\n",
        "train_ds = train_ds.repeat()"
      ],
      "metadata": {
        "id": "qH-BxbdX4n3e"
      },
      "execution_count": null,
      "outputs": []
    },
    {
      "cell_type": "code",
      "source": [
        "# Load the EfficientNetV2 model as the base model and freeze the weights\n",
        "# Don't add top layer and add our own top\n",
        "\n",
        "base_model = EfficientNetV2B3(input_shape=(model_pixels, model_pixels, 3),\n",
        "                             include_top=False,\n",
        "                             weights='imagenet',\n",
        "                             pooling=None)\n",
        "\n",
        "base_model.trainable = False\n",
        "\n",
        "# Let's take a look to see how many layers are in the base model\n",
        "print(\"Number of layers in the base model: \", len(base_model.layers))\n",
        "\n",
        "# Fine-tune from this layer onwards\n",
        "fine_tune_at = 300\n",
        "\n",
        "# Freeze all the layers before the `fine_tune_at` layer\n",
        "for layer in base_model.layers[:fine_tune_at]:\n",
        "  layer.trainable = False\n",
        "\n",
        "\n",
        "# Add layers on top of the base model\n",
        "model = Sequential([base_model,\n",
        "                    Flatten(),\n",
        "                    Dense(1024, activation='relu'),\n",
        "                    Dropout(0.2),\n",
        "                    Dense(256, activation='relu'),\n",
        "                    Dropout(0.2),\n",
        "                    Dense(len(class_names), kernel_regularizer=tf.keras.regularizers.l2(0.0001), activation='softmax')])\n",
        "\n",
        "# Build the model\n",
        "model.build((None,)+(model_pixels, model_pixels)+(3,))\n",
        "model.summary()"
      ],
      "metadata": {
        "id": "L0JnLP8pbEZq"
      },
      "execution_count": null,
      "outputs": []
    },
    {
      "cell_type": "code",
      "source": [
        "# Compile the model\n",
        "base_learning_rate = 0.0001\n",
        "\n",
        "model.compile(optimizer=tf.keras.optimizers.Adam(),\n",
        "              loss=tf.keras.losses.CategoricalCrossentropy(),\n",
        "              metrics=['accuracy'])"
      ],
      "metadata": {
        "id": "LqX4h3vZbLKP"
      },
      "execution_count": null,
      "outputs": []
    },
    {
      "cell_type": "code",
      "source": [
        "steps_per_epoch = train_size // (BATCH_SIZE * 2)\n",
        "validation_steps = val_size // BATCH_SIZE\n",
        "\n",
        "print(steps_per_epoch)\n",
        "print(train_size)"
      ],
      "metadata": {
        "id": "ZaqTXiqULPsI"
      },
      "execution_count": null,
      "outputs": []
    },
    {
      "cell_type": "code",
      "source": [
        "# Train the model\n",
        "\n",
        "# Implement early stopping with patience 3\n",
        "early_stopping = tf.keras.callbacks.EarlyStopping(patience=3, restore_best_weights=True)\n",
        "\n",
        "# with tf.device('/device:GPU:0'):\n",
        "hist = model.fit(train_ds,\n",
        "                  batch_size=BATCH_SIZE,\n",
        "                  epochs=10,\n",
        "                  steps_per_epoch=steps_per_epoch,\n",
        "                  validation_data=val_ds,\n",
        "                  validation_steps=validation_steps,\n",
        "                  callbacks=[early_stopping]).history"
      ],
      "metadata": {
        "id": "6sxj__2ObQNI"
      },
      "execution_count": null,
      "outputs": []
    },
    {
      "cell_type": "code",
      "source": [
        "plt.figure()\n",
        "plt.ylabel(\"Loss (training and validation)\")\n",
        "plt.xlabel(\"Training Steps\")\n",
        "#plt.ylim([0,2])\n",
        "plt.plot(hist[\"loss\"])\n",
        "plt.plot(hist[\"val_loss\"])\n",
        "\n",
        "plt.figure()\n",
        "plt.ylabel(\"Accuracy (training and validation)\")\n",
        "plt.xlabel(\"Training Steps\")\n",
        "#plt.ylim([0,1])\n",
        "plt.plot(hist[\"accuracy\"])\n",
        "plt.plot(hist[\"val_accuracy\"])"
      ],
      "metadata": {
        "id": "zLLQmv8mbgO4"
      },
      "execution_count": null,
      "outputs": []
    },
    {
      "cell_type": "code",
      "source": [
        "x, y = next(iter(val_ds))\n",
        "image = x[0, :, :, :] * 1 / 255\n",
        "true_index = np.argmax(y[0])\n",
        "plt.imshow(image)\n",
        "plt.axis('off')\n",
        "plt.show()\n",
        "\n",
        "# Expand the validation image to (1, 224, 224, 3) before predicting the label\n",
        "prediction_scores = model.predict(np.expand_dims(image, axis=0))\n",
        "predicted_index = np.argmax(prediction_scores)\n",
        "print(\"True label: \" + class_names[true_index])\n",
        "print(\"Predicted label: \" + class_names[predicted_index])"
      ],
      "metadata": {
        "id": "9oRr_u_BsLg0"
      },
      "execution_count": null,
      "outputs": []
    },
    {
      "cell_type": "code",
      "source": [
        "def build_testset():\n",
        "    return image_dataset_from_directory(\n",
        "                        f\"drive/MyDrive/archive/test\",\n",
        "                        label_mode=\"categorical\",\n",
        "                        color_mode=\"grayscale\",\n",
        "                        image_size=IMAGE_SIZE,\n",
        "                        batch_size=1,\n",
        "                        seed=42)"
      ],
      "metadata": {
        "id": "w95dJXgxOYJh"
      },
      "execution_count": null,
      "outputs": []
    },
    {
      "cell_type": "code",
      "source": [
        "# Build test set\n",
        "test_ds = build_testset()\n",
        "\n",
        "# Apply the preprocessing model to the test dataset\n",
        "test_ds = test_ds.map(lambda x, y: (preprocessing_model(x), y))"
      ],
      "metadata": {
        "id": "986INicROxbX"
      },
      "execution_count": null,
      "outputs": []
    },
    {
      "cell_type": "code",
      "source": [
        "# Build test set\n",
        "test_ds = build_testset()\n",
        "\n",
        "# Apply the preprocessing model to the test dataset\n",
        "test_ds = test_ds.map(lambda x, y: (preprocessing_model(x), y))\n",
        "\n",
        "# Get the test set size\n",
        "test_size = test_ds.cardinality().numpy()\n",
        "\n",
        "# Predict the labels of the test dataset\n",
        "y_pred = model.predict(test_ds, verbose=1)\n",
        "\n",
        "# Get the loss and accuracy of the model on the test dataset\n",
        "loss, accuracy = model.evaluate(test_ds, verbose=1)\n",
        "\n",
        "print(f\"Test loss: {loss}\")\n",
        "print(f\"Test accuracy: {accuracy}\")"
      ],
      "metadata": {
        "id": "JiMiFTO2OOSQ"
      },
      "execution_count": null,
      "outputs": []
    },
    {
      "cell_type": "code",
      "source": [
        "# Get the true labels of the test dataset\n",
        "y_true = np.concatenate([y for x, y in test_ds], axis=0)\n",
        "y_true = np.argmax(y_true, axis=1)\n",
        "\n",
        "# Get the predicted labels\n",
        "y_pred = np.argmax(y_pred, axis=1)"
      ],
      "metadata": {
        "id": "vJPiNhc5MxDD"
      },
      "execution_count": null,
      "outputs": []
    },
    {
      "cell_type": "code",
      "source": [
        "from sklearn.metrics import confusion_matrix\n",
        "import seaborn as sns\n",
        "\n",
        "cm = confusion_matrix(y_true, y_pred)\n",
        "\n",
        "plt.figure(figsize=(10, 8))\n",
        "sns.heatmap(cm, annot=True, fmt='g', cmap='Blues')\n",
        "plt.xlabel('Predicted label')\n",
        "plt.ylabel('True label')\n",
        "plt.show()"
      ],
      "metadata": {
        "id": "Bq-E6YKrqdHo"
      },
      "execution_count": null,
      "outputs": []
    },
    {
      "cell_type": "code",
      "source": [
        "# Find out accuracy of each class\n",
        "\n",
        "class_acc = np.zeros(len(cm))\n",
        "\n",
        "for i in range(len(cm)):\n",
        "  class_acc[i] = cm[i, i] / np.sum(cm[i, :])\n",
        "\n",
        "print(class_acc)"
      ],
      "metadata": {
        "id": "blFPYc9VNXYt"
      },
      "execution_count": null,
      "outputs": []
    },
    {
      "cell_type": "code",
      "source": [
        "# Find out if this method works for saving the model\n",
        "\n",
        "model.save(\"efficientnet_v2_finetuning.keras\")"
      ],
      "metadata": {
        "id": "NvIJ1HuusRc-"
      },
      "execution_count": null,
      "outputs": []
    },
    {
      "cell_type": "code",
      "source": [
        "for image, label in test_ds.take(1):\n",
        "    predictions = model.predict(image)\n",
        "    predicted_label = np.argmax(predictions, axis=1)\n",
        "    plt.imshow(image[0]*1/255)\n",
        "    plt.title(f\"True label: {class_names[np.argmax(label[0])]}, Predicted label: {class_names[predicted_label[0]]}\")\n",
        "    plt.show()"
      ],
      "metadata": {
        "id": "_q7qy9JydJYB"
      },
      "execution_count": null,
      "outputs": []
    },
    {
      "cell_type": "markdown",
      "source": [
        "Run with old weights"
      ],
      "metadata": {
        "id": "Z_w3OYamQJso"
      }
    },
    {
      "cell_type": "code",
      "source": [
        "# Load the model\n",
        "old_model = tf.keras.models.load_model('drive/MyDrive/efficientnet_v2_incl_rescaling.keras')\n",
        "\n",
        "# Show the model architecture\n",
        "old_model.summary()"
      ],
      "metadata": {
        "id": "g6B82uZ3MHoy"
      },
      "execution_count": null,
      "outputs": []
    },
    {
      "cell_type": "code",
      "source": [
        "# Predict the labels of the test dataset\n",
        "y_pred = old_model.predict(test_ds, verbose=1)\n",
        "\n",
        "# Get the loss and accuracy of the model on the test dataset\n",
        "loss, accuracy = old_model.evaluate(test_ds, verbose=1)\n",
        "\n",
        "print(f\"Test loss: {loss}\")\n",
        "print(f\"Test accuracy: {accuracy}\")"
      ],
      "metadata": {
        "id": "mjpt9TU5Qboe"
      },
      "execution_count": null,
      "outputs": []
    },
    {
      "cell_type": "code",
      "source": [
        "# Get the true labels of the test dataset\n",
        "y_true = np.concatenate([y for x, y in test_ds], axis=0)\n",
        "y_true = np.argmax(y_true, axis=1)\n",
        "\n",
        "# Get the predicted labels\n",
        "y_pred = np.argmax(y_pred, axis=1)"
      ],
      "metadata": {
        "id": "LRLERMHfQsp6"
      },
      "execution_count": null,
      "outputs": []
    },
    {
      "cell_type": "code",
      "source": [
        "cm = confusion_matrix(y_true, y_pred)\n",
        "\n",
        "plt.figure(figsize=(10, 8))\n",
        "sns.heatmap(cm, annot=True, fmt='g', cmap='Blues')\n",
        "plt.xlabel('Predicted label')\n",
        "plt.ylabel('True label')\n",
        "plt.show()"
      ],
      "metadata": {
        "id": "JDcmQlkcQwD9",
        "outputId": "fa6c4682-c6ba-4c26-aa55-3482ed29753e",
        "colab": {
          "base_uri": "https://localhost:8080/",
          "height": 696
        }
      },
      "execution_count": 38,
      "outputs": [
        {
          "output_type": "display_data",
          "data": {
            "text/plain": [
              "<Figure size 1000x800 with 2 Axes>"
            ],
            "image/png": "[encoded data removed]"
          },
          "metadata": {}
        }
      ]
    },
    {
      "cell_type": "code",
      "source": [
        "# Find out accuracy of each class\n",
        "\n",
        "class_acc = np.zeros(len(cm))\n",
        "\n",
        "for i in range(len(cm)):\n",
        "  class_acc[i] = cm[i, i] / np.sum(cm[i, :])\n",
        "\n",
        "print(class_acc)"
      ],
      "metadata": {
        "id": "-XN4sSjQQ07Q",
        "outputId": "44340ae6-8996-4ce4-8f63-437d2dcd2980",
        "colab": {
          "base_uri": "https://localhost:8080/"
        }
      },
      "execution_count": 39,
      "outputs": [
        {
          "output_type": "stream",
          "name": "stdout",
          "text": [
            "[0.12317328 0.         0.11132812 0.27226607 0.23438767 0.23255814\n",
            " 0.13718412]\n"
          ]
        }
      ]
    },
    {
      "cell_type": "code",
      "source": [],
      "metadata": {
        "id": "4f_DRmtqQ1N3"
      },
      "execution_count": null,
      "outputs": []
    }
  ]
}